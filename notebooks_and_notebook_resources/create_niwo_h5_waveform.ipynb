{
 "cells": [
  {
   "cell_type": "code",
   "execution_count": 1,
   "id": "35870ba1",
   "metadata": {},
   "outputs": [],
   "source": [
    "# Import required packages\n",
    "import os\n",
    "\n",
    "import pandas as pd\n",
    "import earthpy as et\n",
    "import geopandas as gpd\n",
    "import matplotlib.pyplot as plt\n",
    "import numpy as np\n",
    "import earthpy.plot as ep\n",
    "import h5py\n",
    "import json\n",
    "import requests\n",
    "from shapely.geometry import box\n",
    "import seaborn as sns\n",
    "from sklearn.neighbors import KernelDensity\n",
    "import matplotlib.gridspec as grid_spec\n",
    "\n",
    "\n",
    "# Set working directory\n",
    "directory_path = os.path.join(et.io.HOME, \"earth-analytics\")\n",
    "os.chdir(directory_path)\n",
    "\n",
    "# Download the data\n",
    "et.data.get_data(url=\"https://storage.googleapis.com/neon-aop-products/2020/FullSite/D13/2020_NIWO_4/L3/Spectrometer/Reflectance/NEON_D13_NIWO_DP3_454000_4432000_reflectance.h5\")"
   ]
  },
  {
   "cell_type": "code",
   "execution_count": 2,
   "id": "7216c550",
   "metadata": {},
   "outputs": [],
   "source": [
    "# Create path to hdf5 file\n",
    "hdf5_path = os.path.join(\"data\", \"earthpy-downloads\", \"NEON_D13_NIWO_DP3_454000_4432000_reflectance.h5\")"
   ]
  },
  {
   "cell_type": "code",
   "execution_count": 3,
   "id": "903da8fa",
   "metadata": {},
   "outputs": [],
   "source": [
    "def aop_h5refl2array(refl_filename):\n",
    "    \"\"\"aop_h5refl2array reads in a NEON AOP reflectance hdf5 file and returns \n",
    "           1. reflectance array (with the no data value and reflectance scale factor applied)\n",
    "           2. dictionary of metadata including spatial information, and wavelengths of the bands\n",
    "    --------\n",
    "    Parameters\n",
    "        refl_filename -- full or relative path and name of reflectance hdf5 file\n",
    "    --------\n",
    "    Returns \n",
    "    --------\n",
    "    reflArray:\n",
    "        array of reflectance values\n",
    "    metadata:\n",
    "        dictionary containing the following metadata:\n",
    "            bad_band_window1 (tuple)\n",
    "            bad_band_window2 (tuple)\n",
    "            bands: # of bands (float)\n",
    "            data ignore value: value corresponding to no data (float)\n",
    "            epsg: coordinate system code (float)\n",
    "            map info: coordinate system, datum & ellipsoid, pixel dimensions, and origin coordinates (string)\n",
    "            reflectance scale factor: factor by which reflectance is scaled (float)\n",
    "            wavelength: wavelength values (float)\n",
    "            wavelength unit: 'm' (string)\n",
    "    \"\"\"\n",
    "    \n",
    "    # Read in reflectance hdf5 file \n",
    "    hdf5_file = h5py.File(refl_filename,'r')\n",
    "\n",
    "    # Get the site name\n",
    "    file_attrs_string = str(list(hdf5_file.items()))\n",
    "    file_attrs_string_split = file_attrs_string.split(\"'\")\n",
    "    sitename = file_attrs_string_split[1]\n",
    "    \n",
    "    # Extract the reflectance & wavelength datasets\n",
    "    refl = hdf5_file[sitename][\"Reflectance\"]\n",
    "    reflData = refl[\"Reflectance_Data\"]\n",
    "    reflRaw = refl[\"Reflectance_Data\"][:]\n",
    "    \n",
    "    # Create dictionary containing relevant metadata information\n",
    "    metadata = {}\n",
    "    metadata[\"wavelength\"] = refl[\"Metadata\"][\"Spectral_Data\"][\"Wavelength\"]\n",
    "\n",
    "    # Extract no data value & scale factor\n",
    "    metadata['data ignore value'] = float(reflData.attrs['Data_Ignore_Value'])\n",
    "    metadata['reflectance scale factor'] = float(reflData.attrs['Scale_Factor'])\n",
    "    \n",
    "    # Apply no data value\n",
    "    reflClean = reflRaw.astype(float)\n",
    "    arr_size = reflClean.shape\n",
    "    if metadata[\"data ignore value\"] in reflRaw:\n",
    "        print(\"% No Data: \",np.round(np.count_nonzero(reflClean==metadata[\"data ignore value\"])*100/(arr_size[0]*arr_size[1]*arr_size[2]),1))\n",
    "        nodata_ind = np.where(reflClean==metadata[\"data ignore value\"])\n",
    "        reflClean[nodata_ind]=np.nan \n",
    "    \n",
    "    # Apply scale factor\n",
    "    reflArray = reflClean/metadata[\"reflectance scale factor\"]\n",
    "    \n",
    "    # Extract spatial extent from attributes\n",
    "    metadata[\"spatial extent\"] = reflData.attrs[\"Spatial_Extent_meters\"]\n",
    "    \n",
    "    # Extract bad band windows\n",
    "    metadata[\"bad band window1\"] = (refl.attrs[\"Band_Window_1_Nanometers\"])\n",
    "    metadata[\"bad band window2\"] = (refl.attrs[\"Band_Window_2_Nanometers\"])\n",
    "    \n",
    "    # Extract map information: spatial extent & resolution (pixel size)\n",
    "    mapInfo = refl[\"Metadata\"][\"Coordinate_System\"][\"Map_Info\"]\n",
    "    \n",
    "    hdf5_file.close        \n",
    "    \n",
    "    return reflArray, metadata"
   ]
  },
  {
   "cell_type": "code",
   "execution_count": 4,
   "id": "3a022a1f",
   "metadata": {},
   "outputs": [],
   "source": [
    "# Read in file and save reflectance data to a variable\n",
    "niwo_refl, niwo_refl_md = aop_h5refl2array(hdf5_path)"
   ]
  },
  {
   "cell_type": "code",
   "execution_count": 5,
   "id": "3d160302",
   "metadata": {
    "scrolled": true
   },
   "outputs": [
    {
     "name": "stdout",
     "output_type": "stream",
     "text": [
      "[[[0.     0.0099 0.0076 ... 0.     0.     0.    ]\n",
      "  [0.     0.0026 0.0032 ... 0.     0.     0.    ]\n",
      "  [0.0777 0.0037 0.0018 ... 0.     0.     0.    ]\n",
      "  ...\n",
      "  [0.0168 0.0213 0.0138 ... 0.0195 0.0128 0.0143]\n",
      "  [0.0205 0.0338 0.0167 ... 0.0498 0.0406 0.0348]\n",
      "  [0.0137 0.0281 0.0124 ... 0.0339 0.0311 0.0285]]\n",
      "\n",
      " [[0.     0.0036 0.0002 ... 0.     0.     0.    ]\n",
      "  [0.     0.0055 0.0086 ... 0.0009 0.     0.    ]\n",
      "  [0.0706 0.0276 0.0025 ... 0.0017 0.0038 0.    ]\n",
      "  ...\n",
      "  [0.0171 0.0195 0.0088 ... 0.0072 0.0087 0.0035]\n",
      "  [0.0046 0.0163 0.0099 ... 0.0099 0.0091 0.0065]\n",
      "  [0.0944 0.0221 0.021  ... 0.0125 0.0133 0.0078]]\n",
      "\n",
      " [[0.0061 0.0033 0.0051 ... 0.     0.     0.    ]\n",
      "  [0.0098 0.0002 0.0102 ... 0.     0.     0.    ]\n",
      "  [0.0714 0.012  0.0154 ... 0.001  0.     0.0002]\n",
      "  ...\n",
      "  [0.0333 0.0182 0.0131 ... 0.0056 0.0055 0.0061]\n",
      "  [0.1043 0.0253 0.0142 ... 0.0042 0.     0.0033]\n",
      "  [0.14   0.0168 0.0163 ... 0.0051 0.001  0.    ]]\n",
      "\n",
      " ...\n",
      "\n",
      " [[0.004  0.0184 0.0078 ... 0.0011 0.     0.0015]\n",
      "  [0.1339 0.0135 0.015  ... 0.0028 0.0013 0.    ]\n",
      "  [0.     0.0197 0.0161 ... 0.0076 0.0032 0.0095]\n",
      "  ...\n",
      "  [0.0642 0.0236 0.032  ... 0.0132 0.0023 0.    ]\n",
      "  [0.1295 0.0281 0.0195 ... 0.0079 0.0026 0.    ]\n",
      "  [0.079  0.0215 0.0162 ... 0.0068 0.     0.008 ]]\n",
      "\n",
      " [[0.0232 0.0195 0.0167 ... 0.0075 0.0028 0.0078]\n",
      "  [0.     0.0325 0.0125 ... 0.0081 0.0046 0.009 ]\n",
      "  [0.0543 0.0286 0.0209 ... 0.0119 0.0042 0.0046]\n",
      "  ...\n",
      "  [0.     0.0035 0.0078 ... 0.     0.     0.    ]\n",
      "  [0.0019 0.     0.0114 ... 0.     0.     0.    ]\n",
      "  [0.1113 0.0321 0.0187 ... 0.0041 0.     0.    ]]\n",
      "\n",
      " [[0.0432 0.0298 0.029  ... 0.0112 0.0077 0.0144]\n",
      "  [0.     0.0266 0.0165 ... 0.0103 0.0068 0.0072]\n",
      "  [0.0696 0.0203 0.0205 ... 0.0077 0.0048 0.0036]\n",
      "  ...\n",
      "  [0.014  0.008  0.0073 ... 0.     0.     0.    ]\n",
      "  [0.     0.     0.011  ... 0.     0.     0.    ]\n",
      "  [0.1145 0.0289 0.017  ... 0.0019 0.     0.    ]]]\n"
     ]
    }
   ],
   "source": [
    "print(niwo_refl)"
   ]
  },
  {
   "cell_type": "code",
   "execution_count": 6,
   "id": "409253e2",
   "metadata": {},
   "outputs": [
    {
     "name": "stdout",
     "output_type": "stream",
     "text": [
      "{'wavelength': <HDF5 dataset \"Wavelength\": shape (426,), type \"<f4\">, 'data ignore value': -9999.0, 'reflectance scale factor': 10000.0, 'spatial extent': array([ 454000.,  455000., 4432000., 4433000.]), 'bad band window1': array([1340, 1445]), 'bad band window2': array([1790, 1955])}\n"
     ]
    }
   ],
   "source": [
    "print(niwo_refl_md)"
   ]
  },
  {
   "cell_type": "code",
   "execution_count": 7,
   "id": "970e42aa",
   "metadata": {},
   "outputs": [],
   "source": [
    "# Loop through reflectance array to calculate mean reflectance for each band\n",
    "# Create empty list\n",
    "reflectance = []\n",
    "for band in np.arange(niwo_refl.shape[2]):\n",
    "        refl_band = niwo_refl[:,:,band]\n",
    "        refl_mean = refl_band.mean()\n",
    "        reflectance.append(refl_mean)"
   ]
  },
  {
   "cell_type": "code",
   "execution_count": 8,
   "id": "87d0cab8",
   "metadata": {},
   "outputs": [
    {
     "data": {
      "text/plain": [
       "(1000, 1000, 426)"
      ]
     },
     "execution_count": 8,
     "metadata": {},
     "output_type": "execute_result"
    }
   ],
   "source": [
    "niwo_refl.shape"
   ]
  },
  {
   "cell_type": "code",
   "execution_count": 9,
   "id": "817d7ce1",
   "metadata": {},
   "outputs": [
    {
     "data": {
      "text/plain": [
       "array([  0,   1,   2,   3,   4,   5,   6,   7,   8,   9,  10,  11,  12,\n",
       "        13,  14,  15,  16,  17,  18,  19,  20,  21,  22,  23,  24,  25,\n",
       "        26,  27,  28,  29,  30,  31,  32,  33,  34,  35,  36,  37,  38,\n",
       "        39,  40,  41,  42,  43,  44,  45,  46,  47,  48,  49,  50,  51,\n",
       "        52,  53,  54,  55,  56,  57,  58,  59,  60,  61,  62,  63,  64,\n",
       "        65,  66,  67,  68,  69,  70,  71,  72,  73,  74,  75,  76,  77,\n",
       "        78,  79,  80,  81,  82,  83,  84,  85,  86,  87,  88,  89,  90,\n",
       "        91,  92,  93,  94,  95,  96,  97,  98,  99, 100, 101, 102, 103,\n",
       "       104, 105, 106, 107, 108, 109, 110, 111, 112, 113, 114, 115, 116,\n",
       "       117, 118, 119, 120, 121, 122, 123, 124, 125, 126, 127, 128, 129,\n",
       "       130, 131, 132, 133, 134, 135, 136, 137, 138, 139, 140, 141, 142,\n",
       "       143, 144, 145, 146, 147, 148, 149, 150, 151, 152, 153, 154, 155,\n",
       "       156, 157, 158, 159, 160, 161, 162, 163, 164, 165, 166, 167, 168,\n",
       "       169, 170, 171, 172, 173, 174, 175, 176, 177, 178, 179, 180, 181,\n",
       "       182, 183, 184, 185, 186, 187, 188, 189, 190, 191, 192, 193, 194,\n",
       "       195, 196, 197, 198, 199, 200, 201, 202, 203, 204, 205, 206, 207,\n",
       "       208, 209, 210, 211, 212, 213, 214, 215, 216, 217, 218, 219, 220,\n",
       "       221, 222, 223, 224, 225, 226, 227, 228, 229, 230, 231, 232, 233,\n",
       "       234, 235, 236, 237, 238, 239, 240, 241, 242, 243, 244, 245, 246,\n",
       "       247, 248, 249, 250, 251, 252, 253, 254, 255, 256, 257, 258, 259,\n",
       "       260, 261, 262, 263, 264, 265, 266, 267, 268, 269, 270, 271, 272,\n",
       "       273, 274, 275, 276, 277, 278, 279, 280, 281, 282, 283, 284, 285,\n",
       "       286, 287, 288, 289, 290, 291, 292, 293, 294, 295, 296, 297, 298,\n",
       "       299, 300, 301, 302, 303, 304, 305, 306, 307, 308, 309, 310, 311,\n",
       "       312, 313, 314, 315, 316, 317, 318, 319, 320, 321, 322, 323, 324,\n",
       "       325, 326, 327, 328, 329, 330, 331, 332, 333, 334, 335, 336, 337,\n",
       "       338, 339, 340, 341, 342, 343, 344, 345, 346, 347, 348, 349, 350,\n",
       "       351, 352, 353, 354, 355, 356, 357, 358, 359, 360, 361, 362, 363,\n",
       "       364, 365, 366, 367, 368, 369, 370, 371, 372, 373, 374, 375, 376,\n",
       "       377, 378, 379, 380, 381, 382, 383, 384, 385, 386, 387, 388, 389,\n",
       "       390, 391, 392, 393, 394, 395, 396, 397, 398, 399, 400, 401, 402,\n",
       "       403, 404, 405, 406, 407, 408, 409, 410, 411, 412, 413, 414, 415,\n",
       "       416, 417, 418, 419, 420, 421, 422, 423, 424, 425])"
      ]
     },
     "execution_count": 9,
     "metadata": {},
     "output_type": "execute_result"
    }
   ],
   "source": [
    " np.arange(niwo_refl.shape[2])"
   ]
  },
  {
   "cell_type": "code",
   "execution_count": 10,
   "id": "60ca07f8",
   "metadata": {},
   "outputs": [],
   "source": [
    "# Assign wavelength data to a variable\n",
    "wavelengths = niwo_refl_md[\"wavelength\"]"
   ]
  },
  {
   "cell_type": "code",
   "execution_count": 11,
   "id": "ae7b4c4d",
   "metadata": {},
   "outputs": [
    {
     "name": "stdout",
     "output_type": "stream",
     "text": [
      "min wavelength: 381.667 nm\n",
      "max wavelength: 2510.0774 nm\n"
     ]
    }
   ],
   "source": [
    "# Print min and max wavelength values\n",
    "print('min wavelength:', np.amin(wavelengths),'nm')\n",
    "print('max wavelength:', np.amax(wavelengths),'nm')"
   ]
  },
  {
   "cell_type": "code",
   "execution_count": 12,
   "id": "ec513039",
   "metadata": {},
   "outputs": [
    {
     "data": {
      "text/html": [
       "<div>\n",
       "<style scoped>\n",
       "    .dataframe tbody tr th:only-of-type {\n",
       "        vertical-align: middle;\n",
       "    }\n",
       "\n",
       "    .dataframe tbody tr th {\n",
       "        vertical-align: top;\n",
       "    }\n",
       "\n",
       "    .dataframe thead th {\n",
       "        text-align: right;\n",
       "    }\n",
       "</style>\n",
       "<table border=\"1\" class=\"dataframe\">\n",
       "  <thead>\n",
       "    <tr style=\"text-align: right;\">\n",
       "      <th></th>\n",
       "      <th>wavelength</th>\n",
       "      <th>reflectance</th>\n",
       "    </tr>\n",
       "  </thead>\n",
       "  <tbody>\n",
       "    <tr>\n",
       "      <th>0</th>\n",
       "      <td>381.666992</td>\n",
       "      <td>0.034503</td>\n",
       "    </tr>\n",
       "    <tr>\n",
       "      <th>1</th>\n",
       "      <td>386.674988</td>\n",
       "      <td>0.022135</td>\n",
       "    </tr>\n",
       "    <tr>\n",
       "      <th>2</th>\n",
       "      <td>391.683014</td>\n",
       "      <td>0.019015</td>\n",
       "    </tr>\n",
       "    <tr>\n",
       "      <th>3</th>\n",
       "      <td>396.691101</td>\n",
       "      <td>0.019928</td>\n",
       "    </tr>\n",
       "    <tr>\n",
       "      <th>4</th>\n",
       "      <td>401.699097</td>\n",
       "      <td>0.018717</td>\n",
       "    </tr>\n",
       "    <tr>\n",
       "      <th>...</th>\n",
       "      <td>...</td>\n",
       "      <td>...</td>\n",
       "    </tr>\n",
       "    <tr>\n",
       "      <th>421</th>\n",
       "      <td>2490.045410</td>\n",
       "      <td>0.015688</td>\n",
       "    </tr>\n",
       "    <tr>\n",
       "      <th>422</th>\n",
       "      <td>2495.053223</td>\n",
       "      <td>0.019516</td>\n",
       "    </tr>\n",
       "    <tr>\n",
       "      <th>423</th>\n",
       "      <td>2500.061279</td>\n",
       "      <td>0.020172</td>\n",
       "    </tr>\n",
       "    <tr>\n",
       "      <th>424</th>\n",
       "      <td>2505.069336</td>\n",
       "      <td>0.017080</td>\n",
       "    </tr>\n",
       "    <tr>\n",
       "      <th>425</th>\n",
       "      <td>2510.077393</td>\n",
       "      <td>0.016289</td>\n",
       "    </tr>\n",
       "  </tbody>\n",
       "</table>\n",
       "<p>426 rows × 2 columns</p>\n",
       "</div>"
      ],
      "text/plain": [
       "      wavelength  reflectance\n",
       "0     381.666992     0.034503\n",
       "1     386.674988     0.022135\n",
       "2     391.683014     0.019015\n",
       "3     396.691101     0.019928\n",
       "4     401.699097     0.018717\n",
       "..           ...          ...\n",
       "421  2490.045410     0.015688\n",
       "422  2495.053223     0.019516\n",
       "423  2500.061279     0.020172\n",
       "424  2505.069336     0.017080\n",
       "425  2510.077393     0.016289\n",
       "\n",
       "[426 rows x 2 columns]"
      ]
     },
     "execution_count": 12,
     "metadata": {},
     "output_type": "execute_result"
    }
   ],
   "source": [
    "# Create pandas dataframe for plotting\n",
    "refl_df = pd.DataFrame()\n",
    "refl_df[\"wavelength\"] = wavelengths\n",
    "refl_df[\"reflectance\"] = reflectance\n",
    "refl_df"
   ]
  },
  {
   "cell_type": "code",
   "execution_count": 13,
   "id": "fd7a404b",
   "metadata": {
    "scrolled": true
   },
   "outputs": [
    {
     "data": {
      "text/plain": [
       "<matplotlib.legend.Legend at 0x28724cb5430>"
      ]
     },
     "execution_count": 13,
     "metadata": {},
     "output_type": "execute_result"
    },
    {
     "data": {
      "image/png": "[encoded data removed]",
      "text/plain": [
       "<Figure size 1440x360 with 1 Axes>"
      ]
     },
     "metadata": {
      "needs_background": "light"
     },
     "output_type": "display_data"
    }
   ],
   "source": [
    "# Define figure space\n",
    "fig, ax = plt.subplots(figsize=(20, 5))\n",
    "\n",
    "# Plot wavelength\n",
    "refl_df.plot(ax=ax, \n",
    "             x=\"wavelength\",\n",
    "             y=\"reflectance\",\n",
    "             kind=\"scatter\", \n",
    "             label=\"Wavelength Reflectance\",\n",
    "             legend=True)\n",
    "\n",
    "# Set title\n",
    "fig.suptitle(\"NIWO Wavelength Reflectance (August 2020)\", fontsize=16)\n",
    "\n",
    "# Set x and y axis labels\n",
    "plt.xlabel(\"Wavelength (nm)\", fontsize=16)\n",
    "plt.ylabel(\"Reflectance\", fontsize=16)\n",
    "\n",
    "# Add legend\n",
    "ax.legend(prop={'size': 16})"
   ]
  },
  {
   "cell_type": "code",
   "execution_count": 14,
   "id": "7510d2a8",
   "metadata": {},
   "outputs": [],
   "source": [
    "# Make boxes to overlay on waveform image that represent bands picked up by MicaSense\n",
    "# Create boxes with box(minx, miny, maxx, maxy)\n",
    "box_1 = box(444, 0.005, 472, 0.035)\n",
    "box_2 = box(475, 0.005, 507, 0.035)\n",
    "box_3 = box(531, 0.02, 545, 0.05)\n",
    "box_4 = box(560, 0.02, 587, 0.05)\n",
    "box_5 = box(650, 0.01, 666, 0.04)\n",
    "box_6 = box(668, 0.01, 682, 0.04)\n",
    "box_7 = box(705, 0.04, 715, 0.09)\n",
    "box_8 = box(717, 0.05, 729, 0.1)\n",
    "box_9 = box(740, 0.115, 758, 0.135)\n",
    "box_10 = box(842, 0.135, 899, 0.165)"
   ]
  },
  {
   "cell_type": "code",
   "execution_count": 15,
   "id": "0b748139",
   "metadata": {},
   "outputs": [],
   "source": [
    "# Create list of boxes\n",
    "box_list = [box_1, box_2, box_3, box_4, box_5, box_6, box_7, box_8, box_9, box_10]"
   ]
  },
  {
   "cell_type": "code",
   "execution_count": 16,
   "id": "4cc8773f",
   "metadata": {
    "scrolled": true
   },
   "outputs": [
    {
     "data": {
      "image/png": "[encoded data removed]",
      "text/plain": [
       "<Figure size 1440x360 with 1 Axes>"
      ]
     },
     "metadata": {
      "needs_background": "light"
     },
     "output_type": "display_data"
    }
   ],
   "source": [
    "# Define figure space\n",
    "fig, ax = plt.subplots(figsize=(20, 5))\n",
    "\n",
    "# Plot wavelength\n",
    "refl_df.plot(ax=ax, \n",
    "             x=\"wavelength\",\n",
    "             y=\"reflectance\",\n",
    "             kind=\"scatter\", \n",
    "             label=\"Wavelength Reflectance\",\n",
    "             legend=True)\n",
    "\n",
    "# Set title\n",
    "fig.suptitle(\"NIWO Wavelength Reflectance (August 2020)\", fontsize=16)\n",
    "\n",
    "# Set x and y axis labels\n",
    "plt.xlabel(\"Wavelength (nm)\", fontsize=16)\n",
    "plt.ylabel(\"Reflectance\", fontsize=16)\n",
    "\n",
    "# Add legend\n",
    "ax.legend(prop={'size': 16})\n",
    "\n",
    "# Restrict x-axis limits\n",
    "ax.set_xlim([400, 1000])\n",
    "\n",
    "# Add boxes using for loop\n",
    "for box in box_list:\n",
    "    plt.plot(*box.exterior.xy)"
   ]
  },
  {
   "cell_type": "code",
   "execution_count": 17,
   "id": "35c29aac",
   "metadata": {},
   "outputs": [],
   "source": [
    "# Loop through reflectance array again to grab whole arrays\n",
    "# Create empty list\n",
    "full_refl_array = []\n",
    "for band in np.arange(niwo_refl.shape[2]):\n",
    "        refl_band = niwo_refl[:,:,band]\n",
    "        full_refl_array.append(refl_band)"
   ]
  },
  {
   "cell_type": "code",
   "execution_count": 18,
   "id": "465c2294",
   "metadata": {
    "scrolled": true
   },
   "outputs": [
    {
     "data": {
      "text/html": [
       "<div>\n",
       "<style scoped>\n",
       "    .dataframe tbody tr th:only-of-type {\n",
       "        vertical-align: middle;\n",
       "    }\n",
       "\n",
       "    .dataframe tbody tr th {\n",
       "        vertical-align: top;\n",
       "    }\n",
       "\n",
       "    .dataframe thead th {\n",
       "        text-align: right;\n",
       "    }\n",
       "</style>\n",
       "<table border=\"1\" class=\"dataframe\">\n",
       "  <thead>\n",
       "    <tr style=\"text-align: right;\">\n",
       "      <th></th>\n",
       "      <th>wavelength</th>\n",
       "      <th>reflectance</th>\n",
       "    </tr>\n",
       "  </thead>\n",
       "  <tbody>\n",
       "    <tr>\n",
       "      <th>0</th>\n",
       "      <td>381.666992</td>\n",
       "      <td>[[0.0, 0.0, 0.0777, 0.0011, 0.0, 0.0, 0.0538, ...</td>\n",
       "    </tr>\n",
       "    <tr>\n",
       "      <th>1</th>\n",
       "      <td>386.674988</td>\n",
       "      <td>[[0.0099, 0.0026, 0.0037, 0.0016, 0.0003, 0.01...</td>\n",
       "    </tr>\n",
       "    <tr>\n",
       "      <th>2</th>\n",
       "      <td>391.683014</td>\n",
       "      <td>[[0.0076, 0.0032, 0.0018, 0.0058, 0.0094, 0.00...</td>\n",
       "    </tr>\n",
       "    <tr>\n",
       "      <th>3</th>\n",
       "      <td>396.691101</td>\n",
       "      <td>[[0.0073, 0.006, 0.0014, 0.0059, 0.0042, 0.010...</td>\n",
       "    </tr>\n",
       "    <tr>\n",
       "      <th>4</th>\n",
       "      <td>401.699097</td>\n",
       "      <td>[[0.0062, 0.006, 0.0056, 0.0064, 0.0075, 0.012...</td>\n",
       "    </tr>\n",
       "    <tr>\n",
       "      <th>...</th>\n",
       "      <td>...</td>\n",
       "      <td>...</td>\n",
       "    </tr>\n",
       "    <tr>\n",
       "      <th>421</th>\n",
       "      <td>2490.045410</td>\n",
       "      <td>[[0.0, 0.0, 0.0, 0.0071, 0.0, 0.0, 0.0097, 0.0...</td>\n",
       "    </tr>\n",
       "    <tr>\n",
       "      <th>422</th>\n",
       "      <td>2495.053223</td>\n",
       "      <td>[[0.0, 0.0, 0.0, 0.0, 0.0, 0.0049, 0.0122, 0.0...</td>\n",
       "    </tr>\n",
       "    <tr>\n",
       "      <th>423</th>\n",
       "      <td>2500.061279</td>\n",
       "      <td>[[0.0, 0.0, 0.0, 0.0, 0.0025, 0.0054, 0.0129, ...</td>\n",
       "    </tr>\n",
       "    <tr>\n",
       "      <th>424</th>\n",
       "      <td>2505.069336</td>\n",
       "      <td>[[0.0, 0.0, 0.0, 0.0, 0.0, 0.0, 0.0043, 0.0192...</td>\n",
       "    </tr>\n",
       "    <tr>\n",
       "      <th>425</th>\n",
       "      <td>2510.077393</td>\n",
       "      <td>[[0.0, 0.0, 0.0, 0.0, 0.0, 0.0, 0.0052, 0.0208...</td>\n",
       "    </tr>\n",
       "  </tbody>\n",
       "</table>\n",
       "<p>426 rows × 2 columns</p>\n",
       "</div>"
      ],
      "text/plain": [
       "      wavelength                                        reflectance\n",
       "0     381.666992  [[0.0, 0.0, 0.0777, 0.0011, 0.0, 0.0, 0.0538, ...\n",
       "1     386.674988  [[0.0099, 0.0026, 0.0037, 0.0016, 0.0003, 0.01...\n",
       "2     391.683014  [[0.0076, 0.0032, 0.0018, 0.0058, 0.0094, 0.00...\n",
       "3     396.691101  [[0.0073, 0.006, 0.0014, 0.0059, 0.0042, 0.010...\n",
       "4     401.699097  [[0.0062, 0.006, 0.0056, 0.0064, 0.0075, 0.012...\n",
       "..           ...                                                ...\n",
       "421  2490.045410  [[0.0, 0.0, 0.0, 0.0071, 0.0, 0.0, 0.0097, 0.0...\n",
       "422  2495.053223  [[0.0, 0.0, 0.0, 0.0, 0.0, 0.0049, 0.0122, 0.0...\n",
       "423  2500.061279  [[0.0, 0.0, 0.0, 0.0, 0.0025, 0.0054, 0.0129, ...\n",
       "424  2505.069336  [[0.0, 0.0, 0.0, 0.0, 0.0, 0.0, 0.0043, 0.0192...\n",
       "425  2510.077393  [[0.0, 0.0, 0.0, 0.0, 0.0, 0.0, 0.0052, 0.0208...\n",
       "\n",
       "[426 rows x 2 columns]"
      ]
     },
     "execution_count": 18,
     "metadata": {},
     "output_type": "execute_result"
    }
   ],
   "source": [
    "# Make another dataframe with wavelength and full reflectance array\n",
    "refl_array_df = pd.DataFrame()\n",
    "refl_array_df[\"wavelength\"] = wavelengths\n",
    "refl_array_df[\"reflectance\"] = full_refl_array\n",
    "refl_array_df"
   ]
  },
  {
   "cell_type": "code",
   "execution_count": 19,
   "id": "a4479eb7",
   "metadata": {},
   "outputs": [
    {
     "name": "stdout",
     "output_type": "stream",
     "text": [
      "[[0.     0.     0.0777 ... 0.0168 0.0205 0.0137]\n",
      " [0.     0.     0.0706 ... 0.0171 0.0046 0.0944]\n",
      " [0.0061 0.0098 0.0714 ... 0.0333 0.1043 0.14  ]\n",
      " ...\n",
      " [0.004  0.1339 0.     ... 0.0642 0.1295 0.079 ]\n",
      " [0.0232 0.     0.0543 ... 0.     0.0019 0.1113]\n",
      " [0.0432 0.     0.0696 ... 0.014  0.     0.1145]]\n",
      "<class 'numpy.ndarray'>\n"
     ]
    }
   ],
   "source": [
    "print(full_refl_array[0])\n",
    "print(type(full_refl_array[0]))"
   ]
  },
  {
   "cell_type": "markdown",
   "id": "a40804ec",
   "metadata": {},
   "source": [
    "Awesome, this is what I want. Let's plot something from it. I'll start by assigning the first array in a list to a variable."
   ]
  },
  {
   "cell_type": "code",
   "execution_count": 20,
   "id": "24d038f1",
   "metadata": {},
   "outputs": [
    {
     "data": {
      "text/plain": [
       "array([[0.    , 0.    , 0.0777, ..., 0.0168, 0.0205, 0.0137],\n",
       "       [0.    , 0.    , 0.0706, ..., 0.0171, 0.0046, 0.0944],\n",
       "       [0.0061, 0.0098, 0.0714, ..., 0.0333, 0.1043, 0.14  ],\n",
       "       ...,\n",
       "       [0.004 , 0.1339, 0.    , ..., 0.0642, 0.1295, 0.079 ],\n",
       "       [0.0232, 0.    , 0.0543, ..., 0.    , 0.0019, 0.1113],\n",
       "       [0.0432, 0.    , 0.0696, ..., 0.014 , 0.    , 0.1145]])"
      ]
     },
     "execution_count": 20,
     "metadata": {},
     "output_type": "execute_result"
    }
   ],
   "source": [
    "single_refl_array = full_refl_array[0]\n",
    "single_refl_array"
   ]
  },
  {
   "cell_type": "code",
   "execution_count": 21,
   "id": "7a0b6425",
   "metadata": {},
   "outputs": [
    {
     "name": "stderr",
     "output_type": "stream",
     "text": [
      "C:\\Users\\Rachel\\miniconda3\\envs\\earth-analytics-python\\lib\\site-packages\\seaborn\\distributions.py:2619: FutureWarning: `distplot` is a deprecated function and will be removed in a future version. Please adapt your code to use either `displot` (a figure-level function with similar flexibility) or `kdeplot` (an axes-level function for kernel density plots).\n",
      "  warnings.warn(msg, FutureWarning)\n"
     ]
    },
    {
     "data": {
      "text/plain": [
       "<AxesSubplot:ylabel='Density'>"
      ]
     },
     "execution_count": 21,
     "metadata": {},
     "output_type": "execute_result"
    },
    {
     "data": {
      "image/png": "[encoded data removed]",
      "text/plain": [
       "<Figure size 432x288 with 1 Axes>"
      ]
     },
     "metadata": {
      "needs_background": "light"
     },
     "output_type": "display_data"
    }
   ],
   "source": [
    "# Try seaborn\n",
    "sns.distplot(single_refl_array, hist = False, kde = True,\n",
    "                 kde_kws = {'linewidth': 3})"
   ]
  },
  {
   "cell_type": "markdown",
   "id": "e8f222a9",
   "metadata": {},
   "source": [
    "Let's back up a bit. I'm going to start with the refl_array_df object and filter the dataframe so that it only includes bands that are inside the boxes on the waveform plot above! We know which bands are inside the boxes due to the MicaSense Whitepaper! We want the numbers that fall within the boxes as follows:\n",
    "\n",
    "1. 444, 472\n",
    "2. 475, 507\n",
    "3. 531, 545\n",
    "4. 560, 587\n",
    "5. 650, 666\n",
    "6. 668, 682\n",
    "7. 705, 715\n",
    "8. 717, 729\n",
    "9. 740, 758\n",
    "10. 842, 899"
   ]
  },
  {
   "cell_type": "code",
   "execution_count": 22,
   "id": "3829b1f4",
   "metadata": {},
   "outputs": [
    {
     "data": {
      "text/html": [
       "<div>\n",
       "<style scoped>\n",
       "    .dataframe tbody tr th:only-of-type {\n",
       "        vertical-align: middle;\n",
       "    }\n",
       "\n",
       "    .dataframe tbody tr th {\n",
       "        vertical-align: top;\n",
       "    }\n",
       "\n",
       "    .dataframe thead th {\n",
       "        text-align: right;\n",
       "    }\n",
       "</style>\n",
       "<table border=\"1\" class=\"dataframe\">\n",
       "  <thead>\n",
       "    <tr style=\"text-align: right;\">\n",
       "      <th></th>\n",
       "      <th>wavelength</th>\n",
       "      <th>reflectance</th>\n",
       "    </tr>\n",
       "  </thead>\n",
       "  <tbody>\n",
       "    <tr>\n",
       "      <th>13</th>\n",
       "      <td>446.771301</td>\n",
       "      <td>[[0.0049, 0.0025, 0.0024, 0.0056, 0.0053, 0.01...</td>\n",
       "    </tr>\n",
       "    <tr>\n",
       "      <th>14</th>\n",
       "      <td>451.779297</td>\n",
       "      <td>[[0.0032, 0.0024, 0.0018, 0.0034, 0.0046, 0.01...</td>\n",
       "    </tr>\n",
       "    <tr>\n",
       "      <th>15</th>\n",
       "      <td>456.787415</td>\n",
       "      <td>[[0.0038, 0.0029, 0.0027, 0.0037, 0.0045, 0.01...</td>\n",
       "    </tr>\n",
       "    <tr>\n",
       "      <th>16</th>\n",
       "      <td>461.795410</td>\n",
       "      <td>[[0.0032, 0.0021, 0.0025, 0.0035, 0.0037, 0.01...</td>\n",
       "    </tr>\n",
       "    <tr>\n",
       "      <th>17</th>\n",
       "      <td>466.803406</td>\n",
       "      <td>[[0.0025, 0.0005, 0.0016, 0.0035, 0.0052, 0.00...</td>\n",
       "    </tr>\n",
       "    <tr>\n",
       "      <th>18</th>\n",
       "      <td>471.811401</td>\n",
       "      <td>[[0.0034, 0.0025, 0.0019, 0.0023, 0.004, 0.010...</td>\n",
       "    </tr>\n",
       "  </tbody>\n",
       "</table>\n",
       "</div>"
      ],
      "text/plain": [
       "    wavelength                                        reflectance\n",
       "13  446.771301  [[0.0049, 0.0025, 0.0024, 0.0056, 0.0053, 0.01...\n",
       "14  451.779297  [[0.0032, 0.0024, 0.0018, 0.0034, 0.0046, 0.01...\n",
       "15  456.787415  [[0.0038, 0.0029, 0.0027, 0.0037, 0.0045, 0.01...\n",
       "16  461.795410  [[0.0032, 0.0021, 0.0025, 0.0035, 0.0037, 0.01...\n",
       "17  466.803406  [[0.0025, 0.0005, 0.0016, 0.0035, 0.0052, 0.00...\n",
       "18  471.811401  [[0.0034, 0.0025, 0.0019, 0.0023, 0.004, 0.010..."
      ]
     },
     "execution_count": 22,
     "metadata": {},
     "output_type": "execute_result"
    }
   ],
   "source": [
    "# Filter for box 1\n",
    "box_1_df = refl_array_df[refl_array_df[\"wavelength\"].between(444, 472)]\n",
    "\n",
    "# Check it out\n",
    "box_1_df"
   ]
  },
  {
   "cell_type": "markdown",
   "id": "5e25caa9",
   "metadata": {},
   "source": [
    "Success! Now I'm going to separate the values in the reflectance column and put each value in its own row while retaining the wavelength column. The reflectance column is a list of arrays. So below, I explode the reflectance column twice. The first time is to get the arrays out of the list, The second .explode(\"reflectance\") is to then get the values out of the arrays. In other words, the first explode results in a df that has 6000 rows. Remember that each band is a 1000 x 1000 array, and each of those arrays contain 1000 values, that again need separated. Doing the second explode does this, and we are left with a df that has 6,000,000 rows (for 6 bands)."
   ]
  },
  {
   "cell_type": "code",
   "execution_count": 23,
   "id": "07d43fc0",
   "metadata": {},
   "outputs": [
    {
     "data": {
      "text/html": [
       "<div>\n",
       "<style scoped>\n",
       "    .dataframe tbody tr th:only-of-type {\n",
       "        vertical-align: middle;\n",
       "    }\n",
       "\n",
       "    .dataframe tbody tr th {\n",
       "        vertical-align: top;\n",
       "    }\n",
       "\n",
       "    .dataframe thead th {\n",
       "        text-align: right;\n",
       "    }\n",
       "</style>\n",
       "<table border=\"1\" class=\"dataframe\">\n",
       "  <thead>\n",
       "    <tr style=\"text-align: right;\">\n",
       "      <th></th>\n",
       "      <th>wavelength</th>\n",
       "      <th>reflectance</th>\n",
       "    </tr>\n",
       "  </thead>\n",
       "  <tbody>\n",
       "    <tr>\n",
       "      <th>13</th>\n",
       "      <td>446.771301</td>\n",
       "      <td>0.0049</td>\n",
       "    </tr>\n",
       "    <tr>\n",
       "      <th>13</th>\n",
       "      <td>446.771301</td>\n",
       "      <td>0.0025</td>\n",
       "    </tr>\n",
       "    <tr>\n",
       "      <th>13</th>\n",
       "      <td>446.771301</td>\n",
       "      <td>0.0024</td>\n",
       "    </tr>\n",
       "    <tr>\n",
       "      <th>13</th>\n",
       "      <td>446.771301</td>\n",
       "      <td>0.0056</td>\n",
       "    </tr>\n",
       "    <tr>\n",
       "      <th>13</th>\n",
       "      <td>446.771301</td>\n",
       "      <td>0.0053</td>\n",
       "    </tr>\n",
       "    <tr>\n",
       "      <th>...</th>\n",
       "      <td>...</td>\n",
       "      <td>...</td>\n",
       "    </tr>\n",
       "    <tr>\n",
       "      <th>18</th>\n",
       "      <td>471.811401</td>\n",
       "      <td>0.0074</td>\n",
       "    </tr>\n",
       "    <tr>\n",
       "      <th>18</th>\n",
       "      <td>471.811401</td>\n",
       "      <td>0.0058</td>\n",
       "    </tr>\n",
       "    <tr>\n",
       "      <th>18</th>\n",
       "      <td>471.811401</td>\n",
       "      <td>0.0051</td>\n",
       "    </tr>\n",
       "    <tr>\n",
       "      <th>18</th>\n",
       "      <td>471.811401</td>\n",
       "      <td>0.0051</td>\n",
       "    </tr>\n",
       "    <tr>\n",
       "      <th>18</th>\n",
       "      <td>471.811401</td>\n",
       "      <td>0.0172</td>\n",
       "    </tr>\n",
       "  </tbody>\n",
       "</table>\n",
       "<p>6000000 rows × 2 columns</p>\n",
       "</div>"
      ],
      "text/plain": [
       "    wavelength reflectance\n",
       "13  446.771301      0.0049\n",
       "13  446.771301      0.0025\n",
       "13  446.771301      0.0024\n",
       "13  446.771301      0.0056\n",
       "13  446.771301      0.0053\n",
       "..         ...         ...\n",
       "18  471.811401      0.0074\n",
       "18  471.811401      0.0058\n",
       "18  471.811401      0.0051\n",
       "18  471.811401      0.0051\n",
       "18  471.811401      0.0172\n",
       "\n",
       "[6000000 rows x 2 columns]"
      ]
     },
     "execution_count": 23,
     "metadata": {},
     "output_type": "execute_result"
    }
   ],
   "source": [
    "box_1_df_explode = (box_1_df.explode(\"reflectance\")).explode(\"reflectance\")\n",
    "box_1_df_explode"
   ]
  },
  {
   "cell_type": "markdown",
   "id": "157fc0e3",
   "metadata": {},
   "source": [
    "The next step is to plot the frequency distribution of the refelectance for each band, but it seems like I need to have a separate dataframe for each band in order to do this. See this site [here](https://www.geeksforgeeks.org/density-plots-with-pandas-in-python/) and this post [here](https://stackoverflow.com/questions/63258749/how-to-extract-density-function-probabilities-in-python-pandas-kde). So we have to split up the above dataframe into six different dataframes."
   ]
  },
  {
   "cell_type": "code",
   "execution_count": 24,
   "id": "16fa9c05",
   "metadata": {},
   "outputs": [
    {
     "data": {
      "text/plain": [
       "[446.77130126953125,\n",
       " 451.779296875,\n",
       " 456.78741455078125,\n",
       " 461.79541015625,\n",
       " 466.80340576171875,\n",
       " 471.8114013671875]"
      ]
     },
     "execution_count": 24,
     "metadata": {},
     "output_type": "execute_result"
    }
   ],
   "source": [
    "# Find unique wavelength values in the dataframe\n",
    "box_1_wavelength_list = (box_1_df_explode.wavelength.unique()).tolist()\n",
    "box_1_wavelength_list"
   ]
  },
  {
   "cell_type": "code",
   "execution_count": 25,
   "id": "66fec486",
   "metadata": {
    "scrolled": true
   },
   "outputs": [
    {
     "data": {
      "text/html": [
       "<div>\n",
       "<style scoped>\n",
       "    .dataframe tbody tr th:only-of-type {\n",
       "        vertical-align: middle;\n",
       "    }\n",
       "\n",
       "    .dataframe tbody tr th {\n",
       "        vertical-align: top;\n",
       "    }\n",
       "\n",
       "    .dataframe thead th {\n",
       "        text-align: right;\n",
       "    }\n",
       "</style>\n",
       "<table border=\"1\" class=\"dataframe\">\n",
       "  <thead>\n",
       "    <tr style=\"text-align: right;\">\n",
       "      <th></th>\n",
       "      <th>wavelength</th>\n",
       "      <th>reflectance</th>\n",
       "    </tr>\n",
       "  </thead>\n",
       "  <tbody>\n",
       "    <tr>\n",
       "      <th>13</th>\n",
       "      <td>446.771301</td>\n",
       "      <td>0.0049</td>\n",
       "    </tr>\n",
       "    <tr>\n",
       "      <th>13</th>\n",
       "      <td>446.771301</td>\n",
       "      <td>0.0025</td>\n",
       "    </tr>\n",
       "    <tr>\n",
       "      <th>13</th>\n",
       "      <td>446.771301</td>\n",
       "      <td>0.0024</td>\n",
       "    </tr>\n",
       "    <tr>\n",
       "      <th>13</th>\n",
       "      <td>446.771301</td>\n",
       "      <td>0.0056</td>\n",
       "    </tr>\n",
       "    <tr>\n",
       "      <th>13</th>\n",
       "      <td>446.771301</td>\n",
       "      <td>0.0053</td>\n",
       "    </tr>\n",
       "    <tr>\n",
       "      <th>...</th>\n",
       "      <td>...</td>\n",
       "      <td>...</td>\n",
       "    </tr>\n",
       "    <tr>\n",
       "      <th>13</th>\n",
       "      <td>446.771301</td>\n",
       "      <td>0.0085</td>\n",
       "    </tr>\n",
       "    <tr>\n",
       "      <th>13</th>\n",
       "      <td>446.771301</td>\n",
       "      <td>0.0084</td>\n",
       "    </tr>\n",
       "    <tr>\n",
       "      <th>13</th>\n",
       "      <td>446.771301</td>\n",
       "      <td>0.0076</td>\n",
       "    </tr>\n",
       "    <tr>\n",
       "      <th>13</th>\n",
       "      <td>446.771301</td>\n",
       "      <td>0.0081</td>\n",
       "    </tr>\n",
       "    <tr>\n",
       "      <th>13</th>\n",
       "      <td>446.771301</td>\n",
       "      <td>0.0203</td>\n",
       "    </tr>\n",
       "  </tbody>\n",
       "</table>\n",
       "<p>1000000 rows × 2 columns</p>\n",
       "</div>"
      ],
      "text/plain": [
       "    wavelength reflectance\n",
       "13  446.771301      0.0049\n",
       "13  446.771301      0.0025\n",
       "13  446.771301      0.0024\n",
       "13  446.771301      0.0056\n",
       "13  446.771301      0.0053\n",
       "..         ...         ...\n",
       "13  446.771301      0.0085\n",
       "13  446.771301      0.0084\n",
       "13  446.771301      0.0076\n",
       "13  446.771301      0.0081\n",
       "13  446.771301      0.0203\n",
       "\n",
       "[1000000 rows x 2 columns]"
      ]
     },
     "execution_count": 25,
     "metadata": {},
     "output_type": "execute_result"
    }
   ],
   "source": [
    "# Make a new dataframe for each of those unique wavelength values\n",
    "box_1_band_1_df = box_1_df_explode[box_1_df_explode.wavelength == box_1_wavelength_list[0]]\n",
    "box_1_band_1_df"
   ]
  },
  {
   "cell_type": "code",
   "execution_count": 26,
   "id": "4827717a",
   "metadata": {},
   "outputs": [
    {
     "data": {
      "text/plain": [
       "<matplotlib.collections.PathCollection at 0x2872500a430>"
      ]
     },
     "execution_count": 26,
     "metadata": {},
     "output_type": "execute_result"
    },
    {
     "data": {
      "image/png": "[encoded data removed]",
      "text/plain": [
       "<Figure size 432x288 with 1 Axes>"
      ]
     },
     "metadata": {
      "needs_background": "light"
     },
     "output_type": "display_data"
    }
   ],
   "source": [
    "# See the range of reflectance values\n",
    "plt.scatter(box_1_band_1_df.wavelength, box_1_band_1_df.reflectance)"
   ]
  },
  {
   "cell_type": "code",
   "execution_count": 27,
   "id": "87ae2e3b",
   "metadata": {},
   "outputs": [],
   "source": [
    "# Do the same thing for the other 5 bands \n",
    "# Could create a function here to loop through the wavelength list\n",
    "# Band 2\n",
    "box_1_band_2_df = box_1_df_explode[box_1_df_explode.wavelength == box_1_wavelength_list[1]]\n",
    "\n",
    "# Band 3\n",
    "box_1_band_3_df = box_1_df_explode[box_1_df_explode.wavelength == box_1_wavelength_list[2]]\n",
    "\n",
    "# Band 4\n",
    "box_1_band_4_df = box_1_df_explode[box_1_df_explode.wavelength == box_1_wavelength_list[3]]\n",
    "\n",
    "# Band 5\n",
    "box_1_band_5_df = box_1_df_explode[box_1_df_explode.wavelength == box_1_wavelength_list[4]]\n",
    "\n",
    "# Band 6\n",
    "box_1_band_6_df = box_1_df_explode[box_1_df_explode.wavelength == box_1_wavelength_list[5]]"
   ]
  },
  {
   "cell_type": "markdown",
   "id": "fdb3593e",
   "metadata": {},
   "source": [
    "Let's plot the kernel density estimate (kde) now."
   ]
  },
  {
   "cell_type": "code",
   "execution_count": 28,
   "id": "bcc9138d",
   "metadata": {},
   "outputs": [
    {
     "data": {
      "text/plain": [
       "Text(0.5, 0, 'Reflectance')"
      ]
     },
     "execution_count": 28,
     "metadata": {},
     "output_type": "execute_result"
    },
    {
     "data": {
      "image/png": "[encoded data removed]",
      "text/plain": [
       "<Figure size 432x288 with 1 Axes>"
      ]
     },
     "metadata": {
      "needs_background": "light"
     },
     "output_type": "display_data"
    }
   ],
   "source": [
    "# Box 1 band 1\n",
    "box_1_band_1_df.reflectance.plot.kde(color=\"green\")\n",
    "plt.title(\"KDE-Density Plot for Box 1 Band 1 Reflectance\")\n",
    "plt.xlabel(\"Reflectance\")"
   ]
  },
  {
   "cell_type": "markdown",
   "id": "f775eefc",
   "metadata": {},
   "source": [
    "It worked, so now let's extract the data from the plot and add a site column so we know what site this data came from."
   ]
  },
  {
   "cell_type": "code",
   "execution_count": 29,
   "id": "d4fcb981",
   "metadata": {
    "scrolled": true
   },
   "outputs": [
    {
     "data": {
      "image/png": "[encoded data removed]",
      "text/plain": [
       "<Figure size 432x288 with 1 Axes>"
      ]
     },
     "metadata": {
      "needs_background": "light"
     },
     "output_type": "display_data"
    }
   ],
   "source": [
    "box_1_band_1_kde_arr = box_1_band_1_df.reflectance.plot.kde().get_lines()[0].get_xydata()"
   ]
  },
  {
   "cell_type": "markdown",
   "id": "d1e49111",
   "metadata": {},
   "source": [
    "The object box_1_band_1_kde_arr contains a lot of arrays. Each array has two values in it, a value for x and a value for y. We need to get all of this information into a pandas dataframe."
   ]
  },
  {
   "cell_type": "code",
   "execution_count": 30,
   "id": "3049d052",
   "metadata": {
    "scrolled": true
   },
   "outputs": [
    {
     "data": {
      "text/html": [
       "<div>\n",
       "<style scoped>\n",
       "    .dataframe tbody tr th:only-of-type {\n",
       "        vertical-align: middle;\n",
       "    }\n",
       "\n",
       "    .dataframe tbody tr th {\n",
       "        vertical-align: top;\n",
       "    }\n",
       "\n",
       "    .dataframe thead th {\n",
       "        text-align: right;\n",
       "    }\n",
       "</style>\n",
       "<table border=\"1\" class=\"dataframe\">\n",
       "  <thead>\n",
       "    <tr style=\"text-align: right;\">\n",
       "      <th></th>\n",
       "      <th>x</th>\n",
       "      <th>y</th>\n",
       "    </tr>\n",
       "  </thead>\n",
       "  <tbody>\n",
       "    <tr>\n",
       "      <th>0</th>\n",
       "      <td>-0.148650</td>\n",
       "      <td>0.0</td>\n",
       "    </tr>\n",
       "    <tr>\n",
       "      <th>1</th>\n",
       "      <td>-0.148055</td>\n",
       "      <td>0.0</td>\n",
       "    </tr>\n",
       "    <tr>\n",
       "      <th>2</th>\n",
       "      <td>-0.147460</td>\n",
       "      <td>0.0</td>\n",
       "    </tr>\n",
       "    <tr>\n",
       "      <th>3</th>\n",
       "      <td>-0.146864</td>\n",
       "      <td>0.0</td>\n",
       "    </tr>\n",
       "    <tr>\n",
       "      <th>4</th>\n",
       "      <td>-0.146269</td>\n",
       "      <td>0.0</td>\n",
       "    </tr>\n",
       "    <tr>\n",
       "      <th>...</th>\n",
       "      <td>...</td>\n",
       "      <td>...</td>\n",
       "    </tr>\n",
       "    <tr>\n",
       "      <th>995</th>\n",
       "      <td>0.443569</td>\n",
       "      <td>0.0</td>\n",
       "    </tr>\n",
       "    <tr>\n",
       "      <th>996</th>\n",
       "      <td>0.444164</td>\n",
       "      <td>0.0</td>\n",
       "    </tr>\n",
       "    <tr>\n",
       "      <th>997</th>\n",
       "      <td>0.444760</td>\n",
       "      <td>0.0</td>\n",
       "    </tr>\n",
       "    <tr>\n",
       "      <th>998</th>\n",
       "      <td>0.445355</td>\n",
       "      <td>0.0</td>\n",
       "    </tr>\n",
       "    <tr>\n",
       "      <th>999</th>\n",
       "      <td>0.445950</td>\n",
       "      <td>0.0</td>\n",
       "    </tr>\n",
       "  </tbody>\n",
       "</table>\n",
       "<p>1000 rows × 2 columns</p>\n",
       "</div>"
      ],
      "text/plain": [
       "            x    y\n",
       "0   -0.148650  0.0\n",
       "1   -0.148055  0.0\n",
       "2   -0.147460  0.0\n",
       "3   -0.146864  0.0\n",
       "4   -0.146269  0.0\n",
       "..        ...  ...\n",
       "995  0.443569  0.0\n",
       "996  0.444164  0.0\n",
       "997  0.444760  0.0\n",
       "998  0.445355  0.0\n",
       "999  0.445950  0.0\n",
       "\n",
       "[1000 rows x 2 columns]"
      ]
     },
     "execution_count": 30,
     "metadata": {},
     "output_type": "execute_result"
    }
   ],
   "source": [
    "box_1_band_1_kde_df = pd.DataFrame(box_1_band_1_kde_arr, columns=list('xy'))\n",
    "box_1_band_1_kde_df"
   ]
  },
  {
   "cell_type": "code",
   "execution_count": 31,
   "id": "3971f939",
   "metadata": {},
   "outputs": [],
   "source": [
    "# Add band cloumn and site column\n",
    "box_1_band_1_kde_df[\"site\"] = \"NIWO\"\n",
    "box_1_band_1_kde_df[\"band\"] = box_1_wavelength_list[0]"
   ]
  },
  {
   "cell_type": "code",
   "execution_count": 32,
   "id": "3996a1fb",
   "metadata": {},
   "outputs": [
    {
     "data": {
      "text/html": [
       "<div>\n",
       "<style scoped>\n",
       "    .dataframe tbody tr th:only-of-type {\n",
       "        vertical-align: middle;\n",
       "    }\n",
       "\n",
       "    .dataframe tbody tr th {\n",
       "        vertical-align: top;\n",
       "    }\n",
       "\n",
       "    .dataframe thead th {\n",
       "        text-align: right;\n",
       "    }\n",
       "</style>\n",
       "<table border=\"1\" class=\"dataframe\">\n",
       "  <thead>\n",
       "    <tr style=\"text-align: right;\">\n",
       "      <th></th>\n",
       "      <th>x</th>\n",
       "      <th>y</th>\n",
       "      <th>site</th>\n",
       "      <th>band</th>\n",
       "    </tr>\n",
       "  </thead>\n",
       "  <tbody>\n",
       "    <tr>\n",
       "      <th>0</th>\n",
       "      <td>-0.148650</td>\n",
       "      <td>0.0</td>\n",
       "      <td>NIWO</td>\n",
       "      <td>446.771301</td>\n",
       "    </tr>\n",
       "    <tr>\n",
       "      <th>1</th>\n",
       "      <td>-0.148055</td>\n",
       "      <td>0.0</td>\n",
       "      <td>NIWO</td>\n",
       "      <td>446.771301</td>\n",
       "    </tr>\n",
       "    <tr>\n",
       "      <th>2</th>\n",
       "      <td>-0.147460</td>\n",
       "      <td>0.0</td>\n",
       "      <td>NIWO</td>\n",
       "      <td>446.771301</td>\n",
       "    </tr>\n",
       "    <tr>\n",
       "      <th>3</th>\n",
       "      <td>-0.146864</td>\n",
       "      <td>0.0</td>\n",
       "      <td>NIWO</td>\n",
       "      <td>446.771301</td>\n",
       "    </tr>\n",
       "    <tr>\n",
       "      <th>4</th>\n",
       "      <td>-0.146269</td>\n",
       "      <td>0.0</td>\n",
       "      <td>NIWO</td>\n",
       "      <td>446.771301</td>\n",
       "    </tr>\n",
       "    <tr>\n",
       "      <th>...</th>\n",
       "      <td>...</td>\n",
       "      <td>...</td>\n",
       "      <td>...</td>\n",
       "      <td>...</td>\n",
       "    </tr>\n",
       "    <tr>\n",
       "      <th>995</th>\n",
       "      <td>0.443569</td>\n",
       "      <td>0.0</td>\n",
       "      <td>NIWO</td>\n",
       "      <td>446.771301</td>\n",
       "    </tr>\n",
       "    <tr>\n",
       "      <th>996</th>\n",
       "      <td>0.444164</td>\n",
       "      <td>0.0</td>\n",
       "      <td>NIWO</td>\n",
       "      <td>446.771301</td>\n",
       "    </tr>\n",
       "    <tr>\n",
       "      <th>997</th>\n",
       "      <td>0.444760</td>\n",
       "      <td>0.0</td>\n",
       "      <td>NIWO</td>\n",
       "      <td>446.771301</td>\n",
       "    </tr>\n",
       "    <tr>\n",
       "      <th>998</th>\n",
       "      <td>0.445355</td>\n",
       "      <td>0.0</td>\n",
       "      <td>NIWO</td>\n",
       "      <td>446.771301</td>\n",
       "    </tr>\n",
       "    <tr>\n",
       "      <th>999</th>\n",
       "      <td>0.445950</td>\n",
       "      <td>0.0</td>\n",
       "      <td>NIWO</td>\n",
       "      <td>446.771301</td>\n",
       "    </tr>\n",
       "  </tbody>\n",
       "</table>\n",
       "<p>1000 rows × 4 columns</p>\n",
       "</div>"
      ],
      "text/plain": [
       "            x    y  site        band\n",
       "0   -0.148650  0.0  NIWO  446.771301\n",
       "1   -0.148055  0.0  NIWO  446.771301\n",
       "2   -0.147460  0.0  NIWO  446.771301\n",
       "3   -0.146864  0.0  NIWO  446.771301\n",
       "4   -0.146269  0.0  NIWO  446.771301\n",
       "..        ...  ...   ...         ...\n",
       "995  0.443569  0.0  NIWO  446.771301\n",
       "996  0.444164  0.0  NIWO  446.771301\n",
       "997  0.444760  0.0  NIWO  446.771301\n",
       "998  0.445355  0.0  NIWO  446.771301\n",
       "999  0.445950  0.0  NIWO  446.771301\n",
       "\n",
       "[1000 rows x 4 columns]"
      ]
     },
     "execution_count": 32,
     "metadata": {},
     "output_type": "execute_result"
    }
   ],
   "source": [
    "# Check to make sure creating new columns worked\n",
    "box_1_band_1_kde_df"
   ]
  },
  {
   "cell_type": "markdown",
   "id": "57f52d9b",
   "metadata": {},
   "source": [
    "This is the dataframe that I need to make one ridgeline in the ridgeline plot. I'm going to do what I just did for the rest of the bands in box 1, concat the dataframes, then make the ridgeline figure for box 1. I'll eventually make a function for this."
   ]
  },
  {
   "cell_type": "code",
   "execution_count": 33,
   "id": "e8c0aea6",
   "metadata": {
    "scrolled": true
   },
   "outputs": [
    {
     "data": {
      "image/png": "[encoded data removed]",
      "text/plain": [
       "<Figure size 432x288 with 1 Axes>"
      ]
     },
     "metadata": {
      "needs_background": "light"
     },
     "output_type": "display_data"
    }
   ],
   "source": [
    "# Band 2\n",
    "# Get x and y values from kde\n",
    "box_1_band_2_kde_arr = box_1_band_2_df.reflectance.plot.kde().get_lines()[0].get_xydata()\n",
    "# Create dataframe from kde x and y values\n",
    "box_1_band_2_kde_df = pd.DataFrame(box_1_band_2_kde_arr, columns=list('xy'))\n",
    "# Add band cloumn and site column\n",
    "box_1_band_2_kde_df[\"site\"] = \"NIWO\"\n",
    "box_1_band_2_kde_df[\"band\"] = box_1_wavelength_list[1]"
   ]
  },
  {
   "cell_type": "code",
   "execution_count": 34,
   "id": "3440b685",
   "metadata": {},
   "outputs": [
    {
     "data": {
      "image/png": "[encoded data removed]",
      "text/plain": [
       "<Figure size 432x288 with 1 Axes>"
      ]
     },
     "metadata": {
      "needs_background": "light"
     },
     "output_type": "display_data"
    }
   ],
   "source": [
    "# Band 3\n",
    "# Get x and y values from kde\n",
    "box_1_band_3_kde_arr = box_1_band_3_df.reflectance.plot.kde().get_lines()[0].get_xydata()\n",
    "# Create dataframe from kde x and y values\n",
    "box_1_band_3_kde_df = pd.DataFrame(box_1_band_3_kde_arr, columns=list('xy'))\n",
    "# Add band cloumn and site column\n",
    "box_1_band_3_kde_df[\"site\"] = \"NIWO\"\n",
    "box_1_band_3_kde_df[\"band\"] = box_1_wavelength_list[2]"
   ]
  },
  {
   "cell_type": "code",
   "execution_count": 35,
   "id": "261e580a",
   "metadata": {},
   "outputs": [
    {
     "data": {
      "image/png": "[encoded data removed]",
      "text/plain": [
       "<Figure size 432x288 with 1 Axes>"
      ]
     },
     "metadata": {
      "needs_background": "light"
     },
     "output_type": "display_data"
    }
   ],
   "source": [
    "# Band 4\n",
    "# Get x and y values from kde\n",
    "box_1_band_4_kde_arr = box_1_band_4_df.reflectance.plot.kde().get_lines()[0].get_xydata()\n",
    "# Create dataframe from kde x and y values\n",
    "box_1_band_4_kde_df = pd.DataFrame(box_1_band_4_kde_arr, columns=list('xy'))\n",
    "# Add band cloumn and site column\n",
    "box_1_band_4_kde_df[\"site\"] = \"NIWO\"\n",
    "box_1_band_4_kde_df[\"band\"] = box_1_wavelength_list[3]"
   ]
  },
  {
   "cell_type": "code",
   "execution_count": 36,
   "id": "9bcb4731",
   "metadata": {},
   "outputs": [
    {
     "data": {
      "image/png": "[encoded data removed]",
      "text/plain": [
       "<Figure size 432x288 with 1 Axes>"
      ]
     },
     "metadata": {
      "needs_background": "light"
     },
     "output_type": "display_data"
    }
   ],
   "source": [
    "# Band 5\n",
    "# Get x and y values from kde\n",
    "box_1_band_5_kde_arr = box_1_band_5_df.reflectance.plot.kde().get_lines()[0].get_xydata()\n",
    "# Create dataframe from kde x and y values\n",
    "box_1_band_5_kde_df = pd.DataFrame(box_1_band_5_kde_arr, columns=list('xy'))\n",
    "# Add band cloumn and site column\n",
    "box_1_band_5_kde_df[\"site\"] = \"NIWO\"\n",
    "box_1_band_5_kde_df[\"band\"] = box_1_wavelength_list[4]"
   ]
  },
  {
   "cell_type": "code",
   "execution_count": 37,
   "id": "4b8cd374",
   "metadata": {
    "scrolled": true
   },
   "outputs": [
    {
     "data": {
      "image/png": "[encoded data removed]",
      "text/plain": [
       "<Figure size 432x288 with 1 Axes>"
      ]
     },
     "metadata": {
      "needs_background": "light"
     },
     "output_type": "display_data"
    }
   ],
   "source": [
    "# Band 6\n",
    "# Get x and y values from kde\n",
    "box_1_band_6_kde_arr = box_1_band_6_df.reflectance.plot.kde().get_lines()[0].get_xydata()\n",
    "# Create dataframe from kde x and y values\n",
    "box_1_band_6_kde_df = pd.DataFrame(box_1_band_6_kde_arr, columns=list('xy'))\n",
    "# Add band cloumn and site column\n",
    "box_1_band_6_kde_df[\"site\"] = \"NIWO\"\n",
    "box_1_band_6_kde_df[\"band\"] = box_1_wavelength_list[5]"
   ]
  },
  {
   "cell_type": "code",
   "execution_count": 38,
   "id": "9ecf6db5",
   "metadata": {},
   "outputs": [],
   "source": [
    "# Add all dataframes together\n",
    "box_1_kde_df = pd.concat([box_1_band_1_kde_df,\n",
    "                         box_1_band_2_kde_df,\n",
    "                         box_1_band_3_kde_df,\n",
    "                         box_1_band_4_kde_df,\n",
    "                         box_1_band_5_kde_df,\n",
    "                         box_1_band_6_kde_df])"
   ]
  },
  {
   "cell_type": "code",
   "execution_count": 39,
   "id": "c07753c0",
   "metadata": {
    "scrolled": true
   },
   "outputs": [
    {
     "data": {
      "text/html": [
       "<div>\n",
       "<style scoped>\n",
       "    .dataframe tbody tr th:only-of-type {\n",
       "        vertical-align: middle;\n",
       "    }\n",
       "\n",
       "    .dataframe tbody tr th {\n",
       "        vertical-align: top;\n",
       "    }\n",
       "\n",
       "    .dataframe thead th {\n",
       "        text-align: right;\n",
       "    }\n",
       "</style>\n",
       "<table border=\"1\" class=\"dataframe\">\n",
       "  <thead>\n",
       "    <tr style=\"text-align: right;\">\n",
       "      <th></th>\n",
       "      <th>x</th>\n",
       "      <th>y</th>\n",
       "      <th>site</th>\n",
       "      <th>band</th>\n",
       "    </tr>\n",
       "  </thead>\n",
       "  <tbody>\n",
       "    <tr>\n",
       "      <th>0</th>\n",
       "      <td>-0.148650</td>\n",
       "      <td>0.0</td>\n",
       "      <td>NIWO</td>\n",
       "      <td>446.771301</td>\n",
       "    </tr>\n",
       "    <tr>\n",
       "      <th>1</th>\n",
       "      <td>-0.148055</td>\n",
       "      <td>0.0</td>\n",
       "      <td>NIWO</td>\n",
       "      <td>446.771301</td>\n",
       "    </tr>\n",
       "    <tr>\n",
       "      <th>2</th>\n",
       "      <td>-0.147460</td>\n",
       "      <td>0.0</td>\n",
       "      <td>NIWO</td>\n",
       "      <td>446.771301</td>\n",
       "    </tr>\n",
       "    <tr>\n",
       "      <th>3</th>\n",
       "      <td>-0.146864</td>\n",
       "      <td>0.0</td>\n",
       "      <td>NIWO</td>\n",
       "      <td>446.771301</td>\n",
       "    </tr>\n",
       "    <tr>\n",
       "      <th>4</th>\n",
       "      <td>-0.146269</td>\n",
       "      <td>0.0</td>\n",
       "      <td>NIWO</td>\n",
       "      <td>446.771301</td>\n",
       "    </tr>\n",
       "    <tr>\n",
       "      <th>...</th>\n",
       "      <td>...</td>\n",
       "      <td>...</td>\n",
       "      <td>...</td>\n",
       "      <td>...</td>\n",
       "    </tr>\n",
       "    <tr>\n",
       "      <th>995</th>\n",
       "      <td>0.420443</td>\n",
       "      <td>0.0</td>\n",
       "      <td>NIWO</td>\n",
       "      <td>471.811401</td>\n",
       "    </tr>\n",
       "    <tr>\n",
       "      <th>996</th>\n",
       "      <td>0.421008</td>\n",
       "      <td>0.0</td>\n",
       "      <td>NIWO</td>\n",
       "      <td>471.811401</td>\n",
       "    </tr>\n",
       "    <tr>\n",
       "      <th>997</th>\n",
       "      <td>0.421572</td>\n",
       "      <td>0.0</td>\n",
       "      <td>NIWO</td>\n",
       "      <td>471.811401</td>\n",
       "    </tr>\n",
       "    <tr>\n",
       "      <th>998</th>\n",
       "      <td>0.422136</td>\n",
       "      <td>0.0</td>\n",
       "      <td>NIWO</td>\n",
       "      <td>471.811401</td>\n",
       "    </tr>\n",
       "    <tr>\n",
       "      <th>999</th>\n",
       "      <td>0.422700</td>\n",
       "      <td>0.0</td>\n",
       "      <td>NIWO</td>\n",
       "      <td>471.811401</td>\n",
       "    </tr>\n",
       "  </tbody>\n",
       "</table>\n",
       "<p>6000 rows × 4 columns</p>\n",
       "</div>"
      ],
      "text/plain": [
       "            x    y  site        band\n",
       "0   -0.148650  0.0  NIWO  446.771301\n",
       "1   -0.148055  0.0  NIWO  446.771301\n",
       "2   -0.147460  0.0  NIWO  446.771301\n",
       "3   -0.146864  0.0  NIWO  446.771301\n",
       "4   -0.146269  0.0  NIWO  446.771301\n",
       "..        ...  ...   ...         ...\n",
       "995  0.420443  0.0  NIWO  471.811401\n",
       "996  0.421008  0.0  NIWO  471.811401\n",
       "997  0.421572  0.0  NIWO  471.811401\n",
       "998  0.422136  0.0  NIWO  471.811401\n",
       "999  0.422700  0.0  NIWO  471.811401\n",
       "\n",
       "[6000 rows x 4 columns]"
      ]
     },
     "execution_count": 39,
     "metadata": {},
     "output_type": "execute_result"
    }
   ],
   "source": [
    "# Check out output to make sure it worked\n",
    "box_1_kde_df"
   ]
  },
  {
   "cell_type": "markdown",
   "id": "721e9fcb",
   "metadata": {},
   "source": [
    "The cell below is taking too long to run. I haven't been able to see the output yet. I followed the tutorial [here](https://seaborn.pydata.org/examples/kde_ridgeplot.html). Here, I'm using the box_1_df_explode because the code below is making the density plots, so I don't need to plot the kde and extract those values."
   ]
  },
  {
   "cell_type": "code",
   "execution_count": 40,
   "id": "6997b357",
   "metadata": {},
   "outputs": [],
   "source": [
    "# # we generate a color palette with Seaborn.color_palette()\n",
    "# pal = sns.color_palette(palette=\"coolwarm\", n_colors=6)\n",
    "\n",
    "# # in the sns.FacetGrid class, the \"hue\" argument is the one that is the one \n",
    "# # that will be represented by colors with \"palette\"\n",
    "# g = sns.FacetGrid(box_1_df_explode, col=\"wavelength\", hue=\"wavelength\", aspect=15, height=0.75, palette=pal)\n",
    "\n",
    "# # then we add the densities kdeplots for each band\n",
    "# g.map(sns.kdeplot, 'reflectance',\n",
    "#       bw_adjust=1, clip_on=False,\n",
    "#       fill=True, alpha=1, linewidth=1.5)"
   ]
  },
  {
   "cell_type": "markdown",
   "id": "cb790b77",
   "metadata": {},
   "source": [
    "Now I'm going to try to make a ridgeline plot using matplotlib following the tutorial [here](https://matplotlib.org/matplotblog/posts/create-ridgeplots-in-matplotlib/)."
   ]
  },
  {
   "cell_type": "code",
   "execution_count": 41,
   "id": "34fe8176",
   "metadata": {},
   "outputs": [
    {
     "data": {
      "image/png": "[encoded data removed]",
      "text/plain": [
       "<Figure size 576x432 with 6 Axes>"
      ]
     },
     "metadata": {
      "needs_background": "light"
     },
     "output_type": "display_data"
    }
   ],
   "source": [
    "# List of wavelengths from box 1\n",
    "box_1_wavelength_list\n",
    "\n",
    "# Colors for each band\n",
    "colors = ['#0000ff', '#3300cc', '#660099', '#990066', '#cc0033', '#ff0000']\n",
    "\n",
    "gs = (grid_spec.GridSpec(len(box_1_wavelength_list),1))\n",
    "\n",
    "fig = plt.figure(figsize=(8,6))\n",
    "\n",
    "i = 0\n",
    "\n",
    "#creating empty list\n",
    "ax_objs = []\n",
    "\n",
    "for wavelength in box_1_wavelength_list:\n",
    "    # creating new axes object and appending to ax_objs\n",
    "    ax_objs.append(fig.add_subplot(gs[i:i+1, 0:]))\n",
    "\n",
    "    # plotting the distribution\n",
    "    plot = (box_1_df_explode[box_1_df_explode.wavelength == wavelength]\n",
    "            .reflectance.plot.kde(ax=ax_objs[-1],color=\"#f0f0f0\", lw=0.5))\n",
    "\n",
    "    # grabbing x and y data from the kde plot\n",
    "    x = plot.get_children()[0]._x\n",
    "    y = plot.get_children()[0]._y\n",
    "\n",
    "    # filling the space beneath the distribution\n",
    "    ax_objs[-1].fill_between(x,y,color=colors[i])\n",
    "\n",
    "    # setting uniform x and y lims\n",
    "    ax_objs[-1].set_xlim(-0.1, 0.5)\n",
    "    ax_objs[-1].set_ylim(0, 60)\n",
    "\n",
    "    i += 1\n",
    "\n",
    "plt.tight_layout()\n",
    "plt.show()"
   ]
  },
  {
   "cell_type": "code",
   "execution_count": 42,
   "id": "7697bedc",
   "metadata": {},
   "outputs": [
    {
     "data": {
      "image/png": "[encoded data removed]",
      "text/plain": [
       "<Figure size 1152x648 with 6 Axes>"
      ]
     },
     "metadata": {
      "needs_background": "light"
     },
     "output_type": "display_data"
    }
   ],
   "source": [
    "# List of wavelengths from box 1\n",
    "box_1_wavelength_list\n",
    "\n",
    "# Colors for each band\n",
    "colors = ['#0000ff', '#3300cc', '#660099', '#990066', '#cc0033', '#ff0000']\n",
    "\n",
    "gs = grid_spec.GridSpec(len(box_1_wavelength_list),1)\n",
    "fig = plt.figure(figsize=(16,9))\n",
    "\n",
    "i = 0\n",
    "\n",
    "ax_objs = []\n",
    "for wavelength in box_1_wavelength_list:\n",
    "    wavelength = box_1_wavelength_list[i]\n",
    "    # I think this is putting the reflectance values back into an array, which\n",
    "    # is what box_1_df is\n",
    "    x = np.array(box_1_df_explode[box_1_df_explode.wavelength == wavelength].reflectance)\n",
    "    x_d = np.linspace(0,1, 1000)\n",
    "\n",
    "    kde = KernelDensity(bandwidth=0.03, kernel='gaussian')\n",
    "    kde.fit(x[:, None])\n",
    "\n",
    "    logprob = kde.score_samples(x_d[:, None])\n",
    "\n",
    "    # creating new axes object\n",
    "    ax_objs.append(fig.add_subplot(gs[i:i+1, 0:]))\n",
    "\n",
    "    # plotting the distribution\n",
    "    ax_objs[-1].plot(x_d, np.exp(logprob),color=\"#f0f0f0\",lw=1)\n",
    "    ax_objs[-1].fill_between(x_d, np.exp(logprob), alpha=1,color=colors[i])\n",
    "\n",
    "\n",
    "    # setting uniform x and y lims\n",
    "    ax_objs[-1].set_xlim(-0.25, 0.5)\n",
    "    ax_objs[-1].set_ylim(0, 55)\n",
    "\n",
    "    # make background transparent\n",
    "    rect = ax_objs[-1].patch\n",
    "    rect.set_alpha(0)\n",
    "\n",
    "    # remove borders, axis ticks, and labels\n",
    "    ax_objs[-1].set_yticklabels([])\n",
    "\n",
    "    if i == len(box_1_wavelength_list)-1:\n",
    "        ax_objs[-1].set_xlabel(\"Reflectance\", fontsize=16,fontweight=\"bold\")\n",
    "    else:\n",
    "        ax_objs[-1].set_xticklabels([])\n",
    "\n",
    "    spines = [\"top\",\"right\",\"left\",\"bottom\"]\n",
    "    for s in spines:\n",
    "        ax_objs[-1].spines[s].set_visible(False)\n",
    "\n",
    "#     adj_wavelength = wavelength.replace(\" \",\"\\n\")\n",
    "#     ax_objs[-1].text(-0.02,0,adj_wavelength,fontweight=\"bold\",fontsize=14,ha=\"right\")\n",
    "\n",
    "\n",
    "    i += 1\n",
    "\n",
    "gs.update(hspace=-0.7)\n",
    "\n",
    "fig.text(0.07,0.85,\"Distribution of NIWO Reflectance MicaSense Band 1\",fontsize=20)\n",
    "\n",
    "plt.show()\n"
   ]
  },
  {
   "cell_type": "markdown",
   "id": "0bc84165",
   "metadata": {},
   "source": [
    "These last two methods work, but the denisty from band to band look very similar, if not the same, which I don't think is correct. This is the same thing that was happening when I used joypy to make a ridgeline plot. "
   ]
  }
 ],
 "metadata": {
  "kernelspec": {
   "display_name": "Python 3 (ipykernel)",
   "language": "python",
   "name": "python3"
  },
  "language_info": {
   "codemirror_mode": {
    "name": "ipython",
    "version": 3
   },
   "file_extension": ".py",
   "mimetype": "text/x-python",
   "name": "python",
   "nbconvert_exporter": "python",
   "pygments_lexer": "ipython3",
   "version": "3.8.13"
  }
 },
 "nbformat": 4,
 "nbformat_minor": 5
}
