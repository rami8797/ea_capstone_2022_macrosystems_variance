{
 "cells": [
  {
   "cell_type": "code",
   "execution_count": 1,
   "id": "273afcc0",
   "metadata": {},
   "outputs": [],
   "source": [
    "# Import required packages\n",
    "\n",
    "from nbconvert import HTMLExporter\n",
    "import codecs"
   ]
  },
  {
   "cell_type": "code",
   "execution_count": 2,
   "id": "4b3dd7e7",
   "metadata": {},
   "outputs": [],
   "source": [
    "# Export blog html file with code block removed\n",
    "\n",
    "exporter = HTMLExporter(template_file=\"no_code_html.tpl\")\n",
    "output, resources = exporter.from_filename(\"macrosystems_blog.ipynb\")\n",
    "new_filename = \"macrosystems_blog.html\"\n",
    "codecs.open(new_filename, 'w', encoding='utf-8').write(output)"
   ]
  }
 ],
 "metadata": {
  "kernelspec": {
   "display_name": "Python 3 (ipykernel)",
   "language": "python",
   "name": "python3"
  },
  "language_info": {
   "codemirror_mode": {
    "name": "ipython",
    "version": 3
   },
   "file_extension": ".py",
   "mimetype": "text/x-python",
   "name": "python",
   "nbconvert_exporter": "python",
   "pygments_lexer": "ipython3",
   "version": "3.8.13"
  }
 },
 "nbformat": 4,
 "nbformat_minor": 5
}
