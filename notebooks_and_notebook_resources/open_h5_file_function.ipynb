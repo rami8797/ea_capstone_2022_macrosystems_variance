{
 "cells": [
  {
   "cell_type": "markdown",
   "id": "0d22a94b",
   "metadata": {},
   "source": [
    "The aop_h5refl2array function provided by NEON to open their h5 files has more parts to it than I need. Here, I'm going to simplify the function. I want the function to:\n",
    "1. Access the file's reflectance data\n",
    "2. Access the file's metadata\n",
    "3. Pull out the file's no data value\n",
    "4. Pull out the file's scale factor\n",
    "5. Find and replace no data values with NA\n",
    "6. Apply the scale factor to the data\n",
    "7. Match the reflectance arrays (bands) with the corresponding wavelength in a pandas dataframe.\n",
    "\n",
    "I'm going to build the function step by step and then put it all together."
   ]
  },
  {
   "cell_type": "code",
   "execution_count": 2,
   "id": "8caea185",
   "metadata": {},
   "outputs": [],
   "source": [
    "# Import required packages\n",
    "import os\n",
    "\n",
    "import pandas as pd\n",
    "import earthpy as et\n",
    "import numpy as np\n",
    "import h5py\n",
    "from shapely.geometry import box\n",
    "\n",
    "\n",
    "# Set working directory\n",
    "directory_path = os.path.join(et.io.HOME, \"earth-analytics\")\n",
    "os.chdir(directory_path)"
   ]
  },
  {
   "cell_type": "code",
   "execution_count": 3,
   "id": "6488ff6d",
   "metadata": {},
   "outputs": [],
   "source": [
    "# Create path to hdf5 file\n",
    "h5_path = os.path.join(\"data\", \"earthpy-downloads\", \"NEON_D13_NIWO_DP3_454000_4432000_reflectance.h5\")"
   ]
  },
  {
   "cell_type": "code",
   "execution_count": 4,
   "id": "96955476",
   "metadata": {},
   "outputs": [],
   "source": [
    "# Read in file\n",
    "h5 = h5py.File(h5_path, \"r\")"
   ]
  },
  {
   "cell_type": "code",
   "execution_count": 5,
   "id": "ee405618",
   "metadata": {},
   "outputs": [
    {
     "name": "stdout",
     "output_type": "stream",
     "text": [
      "<HDF5 group \"/NIWO/Reflectance\" (2 members)>\n"
     ]
    }
   ],
   "source": [
    "# Access the reflectance \"folder\"\n",
    "niwo_refl = h5[\"NIWO\"][\"Reflectance\"]\n",
    "\n",
    "# Print result\n",
    "print(niwo_refl)"
   ]
  },
  {
   "cell_type": "markdown",
   "id": "34372c08",
   "metadata": {},
   "source": [
    "The two members of the HDF5 group /NIWO/Reflectance are Metadata and Reflectance_Data. Let's save the reflectance data as the variable niwo_reflArray:"
   ]
  },
  {
   "cell_type": "code",
   "execution_count": 6,
   "id": "01233d88",
   "metadata": {},
   "outputs": [],
   "source": [
    "# Assign reflectance array to a variable\n",
    "niwo_refl_array = niwo_refl[\"Reflectance_Data\"]\n",
    "\n",
    "# Assgign reflectance values to a variable\n",
    "refl_raw = niwo_refl[\"Reflectance_Data\"][:]"
   ]
  },
  {
   "cell_type": "markdown",
   "id": "584e9e45",
   "metadata": {},
   "source": [
    "NEON hyperspectral data contain around 426 spectral bands, and when working with tiled data, the spatial dimensions are 1000 x 1000, where each pixel represents 1 meter. Now let's take a look at the wavelength values. First, we will extract wavelength information from the niwo_refl variable that we created:"
   ]
  },
  {
   "cell_type": "code",
   "execution_count": 7,
   "id": "722f2c6c",
   "metadata": {},
   "outputs": [],
   "source": [
    "# Define the wavelengths variable\n",
    "wavelengths = niwo_refl[\"Metadata\"][\"Spectral_Data\"][\"Wavelength\"]"
   ]
  },
  {
   "cell_type": "code",
   "execution_count": 8,
   "id": "c52d6011",
   "metadata": {},
   "outputs": [],
   "source": [
    "# Extract no data value & scale factor\n",
    "scale_factor = niwo_refl_array.attrs[\"Scale_Factor\"]\n",
    "no_data_value = niwo_refl_array.attrs[\"Data_Ignore_Value\"]"
   ]
  },
  {
   "cell_type": "code",
   "execution_count": 9,
   "id": "eac164db",
   "metadata": {},
   "outputs": [],
   "source": [
    "# Apply no data value\n",
    "refl_clean = refl_raw.astype(float)\n",
    "arr_size = refl_clean.shape\n",
    "if no_data_value in refl_raw:\n",
    "    print(\"% No Data: \",np.round(np.count_nonzero(refl_clean==metadata[\"data ignore value\"])*100/(arr_size[0]*arr_size[1]*arr_size[2]),1))\n",
    "    nodata_ind = np.where(refl_clean==no_data_value)\n",
    "    refl_clean[nodata_ind]=np.nan"
   ]
  },
  {
   "cell_type": "code",
   "execution_count": 10,
   "id": "c0484e92",
   "metadata": {},
   "outputs": [],
   "source": [
    "# Apply scale factor\n",
    "refl_array = refl_clean/scale_factor"
   ]
  },
  {
   "cell_type": "code",
   "execution_count": 11,
   "id": "f069e758",
   "metadata": {},
   "outputs": [
    {
     "data": {
      "text/plain": [
       "array([[[0.    , 0.0099, 0.0076, ..., 0.    , 0.    , 0.    ],\n",
       "        [0.    , 0.0026, 0.0032, ..., 0.    , 0.    , 0.    ],\n",
       "        [0.0777, 0.0037, 0.0018, ..., 0.    , 0.    , 0.    ],\n",
       "        ...,\n",
       "        [0.0168, 0.0213, 0.0138, ..., 0.0195, 0.0128, 0.0143],\n",
       "        [0.0205, 0.0338, 0.0167, ..., 0.0498, 0.0406, 0.0348],\n",
       "        [0.0137, 0.0281, 0.0124, ..., 0.0339, 0.0311, 0.0285]],\n",
       "\n",
       "       [[0.    , 0.0036, 0.0002, ..., 0.    , 0.    , 0.    ],\n",
       "        [0.    , 0.0055, 0.0086, ..., 0.0009, 0.    , 0.    ],\n",
       "        [0.0706, 0.0276, 0.0025, ..., 0.0017, 0.0038, 0.    ],\n",
       "        ...,\n",
       "        [0.0171, 0.0195, 0.0088, ..., 0.0072, 0.0087, 0.0035],\n",
       "        [0.0046, 0.0163, 0.0099, ..., 0.0099, 0.0091, 0.0065],\n",
       "        [0.0944, 0.0221, 0.021 , ..., 0.0125, 0.0133, 0.0078]],\n",
       "\n",
       "       [[0.0061, 0.0033, 0.0051, ..., 0.    , 0.    , 0.    ],\n",
       "        [0.0098, 0.0002, 0.0102, ..., 0.    , 0.    , 0.    ],\n",
       "        [0.0714, 0.012 , 0.0154, ..., 0.001 , 0.    , 0.0002],\n",
       "        ...,\n",
       "        [0.0333, 0.0182, 0.0131, ..., 0.0056, 0.0055, 0.0061],\n",
       "        [0.1043, 0.0253, 0.0142, ..., 0.0042, 0.    , 0.0033],\n",
       "        [0.14  , 0.0168, 0.0163, ..., 0.0051, 0.001 , 0.    ]],\n",
       "\n",
       "       ...,\n",
       "\n",
       "       [[0.004 , 0.0184, 0.0078, ..., 0.0011, 0.    , 0.0015],\n",
       "        [0.1339, 0.0135, 0.015 , ..., 0.0028, 0.0013, 0.    ],\n",
       "        [0.    , 0.0197, 0.0161, ..., 0.0076, 0.0032, 0.0095],\n",
       "        ...,\n",
       "        [0.0642, 0.0236, 0.032 , ..., 0.0132, 0.0023, 0.    ],\n",
       "        [0.1295, 0.0281, 0.0195, ..., 0.0079, 0.0026, 0.    ],\n",
       "        [0.079 , 0.0215, 0.0162, ..., 0.0068, 0.    , 0.008 ]],\n",
       "\n",
       "       [[0.0232, 0.0195, 0.0167, ..., 0.0075, 0.0028, 0.0078],\n",
       "        [0.    , 0.0325, 0.0125, ..., 0.0081, 0.0046, 0.009 ],\n",
       "        [0.0543, 0.0286, 0.0209, ..., 0.0119, 0.0042, 0.0046],\n",
       "        ...,\n",
       "        [0.    , 0.0035, 0.0078, ..., 0.    , 0.    , 0.    ],\n",
       "        [0.0019, 0.    , 0.0114, ..., 0.    , 0.    , 0.    ],\n",
       "        [0.1113, 0.0321, 0.0187, ..., 0.0041, 0.    , 0.    ]],\n",
       "\n",
       "       [[0.0432, 0.0298, 0.029 , ..., 0.0112, 0.0077, 0.0144],\n",
       "        [0.    , 0.0266, 0.0165, ..., 0.0103, 0.0068, 0.0072],\n",
       "        [0.0696, 0.0203, 0.0205, ..., 0.0077, 0.0048, 0.0036],\n",
       "        ...,\n",
       "        [0.014 , 0.008 , 0.0073, ..., 0.    , 0.    , 0.    ],\n",
       "        [0.    , 0.    , 0.011 , ..., 0.    , 0.    , 0.    ],\n",
       "        [0.1145, 0.0289, 0.017 , ..., 0.0019, 0.    , 0.    ]]])"
      ]
     },
     "execution_count": 11,
     "metadata": {},
     "output_type": "execute_result"
    }
   ],
   "source": [
    "refl_array"
   ]
  },
  {
   "cell_type": "code",
   "execution_count": 12,
   "id": "394a061e",
   "metadata": {},
   "outputs": [
    {
     "data": {
      "text/plain": [
       "(1000, 1000, 426)"
      ]
     },
     "execution_count": 12,
     "metadata": {},
     "output_type": "execute_result"
    }
   ],
   "source": [
    "refl_array.shape"
   ]
  },
  {
   "cell_type": "markdown",
   "id": "58be8333",
   "metadata": {},
   "source": [
    "Now we'll match the wavelength values to the reflectance arrays in a pandas dataframe."
   ]
  },
  {
   "cell_type": "code",
   "execution_count": 13,
   "id": "88c12151",
   "metadata": {},
   "outputs": [],
   "source": [
    "# Loop through reflectance array again to grab whole arrays\n",
    "# Create empty list\n",
    "full_refl_array = []\n",
    "for band in np.arange(refl_array.shape[2]):\n",
    "        refl_band = refl_array[:,:,band]\n",
    "        full_refl_array.append(refl_band)"
   ]
  },
  {
   "cell_type": "code",
   "execution_count": 14,
   "id": "8cc12902",
   "metadata": {
    "scrolled": true
   },
   "outputs": [
    {
     "data": {
      "text/html": [
       "<div>\n",
       "<style scoped>\n",
       "    .dataframe tbody tr th:only-of-type {\n",
       "        vertical-align: middle;\n",
       "    }\n",
       "\n",
       "    .dataframe tbody tr th {\n",
       "        vertical-align: top;\n",
       "    }\n",
       "\n",
       "    .dataframe thead th {\n",
       "        text-align: right;\n",
       "    }\n",
       "</style>\n",
       "<table border=\"1\" class=\"dataframe\">\n",
       "  <thead>\n",
       "    <tr style=\"text-align: right;\">\n",
       "      <th></th>\n",
       "      <th>wavelength</th>\n",
       "      <th>reflectance</th>\n",
       "    </tr>\n",
       "  </thead>\n",
       "  <tbody>\n",
       "    <tr>\n",
       "      <th>0</th>\n",
       "      <td>381.666992</td>\n",
       "      <td>[[0.0, 0.0, 0.0777, 0.0011, 0.0, 0.0, 0.0538, ...</td>\n",
       "    </tr>\n",
       "    <tr>\n",
       "      <th>1</th>\n",
       "      <td>386.674988</td>\n",
       "      <td>[[0.0099, 0.0026, 0.0037, 0.0016, 0.0003, 0.01...</td>\n",
       "    </tr>\n",
       "    <tr>\n",
       "      <th>2</th>\n",
       "      <td>391.683014</td>\n",
       "      <td>[[0.0076, 0.0032, 0.0018, 0.0058, 0.0094, 0.00...</td>\n",
       "    </tr>\n",
       "    <tr>\n",
       "      <th>3</th>\n",
       "      <td>396.691101</td>\n",
       "      <td>[[0.0073, 0.006, 0.0014, 0.0059, 0.0042, 0.010...</td>\n",
       "    </tr>\n",
       "    <tr>\n",
       "      <th>4</th>\n",
       "      <td>401.699097</td>\n",
       "      <td>[[0.0062, 0.006, 0.0056, 0.0064, 0.0075, 0.012...</td>\n",
       "    </tr>\n",
       "    <tr>\n",
       "      <th>...</th>\n",
       "      <td>...</td>\n",
       "      <td>...</td>\n",
       "    </tr>\n",
       "    <tr>\n",
       "      <th>421</th>\n",
       "      <td>2490.045410</td>\n",
       "      <td>[[0.0, 0.0, 0.0, 0.0071, 0.0, 0.0, 0.0097, 0.0...</td>\n",
       "    </tr>\n",
       "    <tr>\n",
       "      <th>422</th>\n",
       "      <td>2495.053223</td>\n",
       "      <td>[[0.0, 0.0, 0.0, 0.0, 0.0, 0.0049, 0.0122, 0.0...</td>\n",
       "    </tr>\n",
       "    <tr>\n",
       "      <th>423</th>\n",
       "      <td>2500.061279</td>\n",
       "      <td>[[0.0, 0.0, 0.0, 0.0, 0.0025, 0.0054, 0.0129, ...</td>\n",
       "    </tr>\n",
       "    <tr>\n",
       "      <th>424</th>\n",
       "      <td>2505.069336</td>\n",
       "      <td>[[0.0, 0.0, 0.0, 0.0, 0.0, 0.0, 0.0043, 0.0192...</td>\n",
       "    </tr>\n",
       "    <tr>\n",
       "      <th>425</th>\n",
       "      <td>2510.077393</td>\n",
       "      <td>[[0.0, 0.0, 0.0, 0.0, 0.0, 0.0, 0.0052, 0.0208...</td>\n",
       "    </tr>\n",
       "  </tbody>\n",
       "</table>\n",
       "<p>426 rows × 2 columns</p>\n",
       "</div>"
      ],
      "text/plain": [
       "      wavelength                                        reflectance\n",
       "0     381.666992  [[0.0, 0.0, 0.0777, 0.0011, 0.0, 0.0, 0.0538, ...\n",
       "1     386.674988  [[0.0099, 0.0026, 0.0037, 0.0016, 0.0003, 0.01...\n",
       "2     391.683014  [[0.0076, 0.0032, 0.0018, 0.0058, 0.0094, 0.00...\n",
       "3     396.691101  [[0.0073, 0.006, 0.0014, 0.0059, 0.0042, 0.010...\n",
       "4     401.699097  [[0.0062, 0.006, 0.0056, 0.0064, 0.0075, 0.012...\n",
       "..           ...                                                ...\n",
       "421  2490.045410  [[0.0, 0.0, 0.0, 0.0071, 0.0, 0.0, 0.0097, 0.0...\n",
       "422  2495.053223  [[0.0, 0.0, 0.0, 0.0, 0.0, 0.0049, 0.0122, 0.0...\n",
       "423  2500.061279  [[0.0, 0.0, 0.0, 0.0, 0.0025, 0.0054, 0.0129, ...\n",
       "424  2505.069336  [[0.0, 0.0, 0.0, 0.0, 0.0, 0.0, 0.0043, 0.0192...\n",
       "425  2510.077393  [[0.0, 0.0, 0.0, 0.0, 0.0, 0.0, 0.0052, 0.0208...\n",
       "\n",
       "[426 rows x 2 columns]"
      ]
     },
     "execution_count": 14,
     "metadata": {},
     "output_type": "execute_result"
    }
   ],
   "source": [
    "# Make another dataframe with wavelength and full reflectance array\n",
    "refl_array_df = pd.DataFrame()\n",
    "refl_array_df[\"wavelength\"] = wavelengths\n",
    "refl_array_df[\"reflectance\"] = full_refl_array\n",
    "refl_array_df"
   ]
  },
  {
   "cell_type": "code",
   "execution_count": null,
   "id": "2aa6bbe0",
   "metadata": {},
   "outputs": [],
   "source": [
    "# Expand dataframe\n",
    "df_explode = (refl_array_df.explode(\"reflectance\")).explode(\"reflectance\")"
   ]
  },
  {
   "cell_type": "markdown",
   "id": "92d8cfc9",
   "metadata": {},
   "source": [
    "We'll use this as a stopping point and create the function using the above steps."
   ]
  },
  {
   "cell_type": "code",
   "execution_count": null,
   "id": "3a99218e",
   "metadata": {},
   "outputs": [],
   "source": [
    "def clean_h5_refl_df(file_path):\n",
    "    \"\"\"Reads in a NEON AOP reflectance h5 file and returns a pandas dataframe\n",
    "        containing one cleaned reflectance array (no data value and scale \n",
    "        factor applied) value per row matched to the corresponding wavelength \n",
    "        along with a site column.\n",
    "\n",
    "    --------\n",
    "    Parameters\n",
    "    file_path: string\n",
    "        Full or relative path and name of reflectance h5 file\n",
    "    --------\n",
    "    Returns \n",
    "    --------\n",
    "    df_explode: pandas DataFrame\n",
    "        DataFrame containing clean reflectance array values matched to their\n",
    "        corresponding wavelengths and a site column.\n",
    "    \"\"\"\n",
    "    \n",
    "    # Read in file\n",
    "    h5 = h5py.File(file_path, \"r\")\n",
    "    \n",
    "    # Get the site name\n",
    "    file_attrs_string = str(list(h5.items()))\n",
    "    file_attrs_string_split = file_attrs_string.split(\"'\")\n",
    "    sitename = file_attrs_string_split[1]\n",
    "\n",
    "    # Access the reflectance \"folder\"\n",
    "    site_refl = h5[\"NIWO\"][\"Reflectance\"]\n",
    "    \n",
    "    # Assign reflectance array to a variable\n",
    "    site_refl_array = site_refl[\"Reflectance_Data\"]\n",
    "\n",
    "    # Assgign reflectance values to a variable\n",
    "    refl_raw = site_refl[\"Reflectance_Data\"][:]\n",
    "    \n",
    "    # Define the wavelengths variable\n",
    "    wavelengths = site_refl[\"Metadata\"][\"Spectral_Data\"][\"Wavelength\"]\n",
    "    \n",
    "    # Extract no data value & scale factor\n",
    "    scale_factor = site_refl_array.attrs[\"Scale_Factor\"]\n",
    "    no_data_value = site_refl_array.attrs[\"Data_Ignore_Value\"]\n",
    "    \n",
    "    # Apply no data value\n",
    "    refl_clean = refl_raw.astype(float)\n",
    "    arr_size = refl_clean.shape\n",
    "    if no_data_value in refl_raw:\n",
    "        print(\"% No Data: \",np.round(np.count_nonzero(refl_clean==metadata[\"data ignore value\"])*100/(arr_size[0]*arr_size[1]*arr_size[2]),1))\n",
    "        nodata_ind = np.where(refl_clean==no_data_value)\n",
    "        refl_clean[nodata_ind]=np.nan\n",
    "    \n",
    "    # Apply scale factor\n",
    "    refl_array = refl_clean/scale_factor\n",
    "    \n",
    "    # Loop through reflectance array again to grab whole arrays\n",
    "    # Create empty list\n",
    "    full_refl_array = []\n",
    "    for band in np.arange(refl_array.shape[2]):\n",
    "        refl_band = refl_array[:,:,band]\n",
    "        full_refl_array.append(refl_band)\n",
    "        \n",
    "    # Make dataframe with wavelength, full reflectance array, and site column\n",
    "    refl_array_df = pd.DataFrame()\n",
    "    refl_array_df[\"wavelength\"] = wavelengths\n",
    "    refl_array_df[\"reflectance\"] = full_refl_array\n",
    "    refl_array_df[\"site\"] = sitename\n",
    "    \n",
    "    # Expand reflectance arrays so that there is one reflectance value from \n",
    "    # the array per row\n",
    "    df_explode = (refl_array_df.explode(\"reflectance\")).explode(\"reflectance\")\n",
    "    \n",
    "    return df_explode"
   ]
  },
  {
   "cell_type": "code",
   "execution_count": null,
   "id": "51461621",
   "metadata": {},
   "outputs": [],
   "source": [
    "# Test the function\n",
    "func_test = clean_h5_refl_df(h5_path)"
   ]
  },
  {
   "cell_type": "code",
   "execution_count": null,
   "id": "c8e2c4e4",
   "metadata": {},
   "outputs": [],
   "source": [
    "# Look at test output\n",
    "func_test"
   ]
  }
 ],
 "metadata": {
  "kernelspec": {
   "display_name": "Python 3 (ipykernel)",
   "language": "python",
   "name": "python3"
  },
  "language_info": {
   "codemirror_mode": {
    "name": "ipython",
    "version": 3
   },
   "file_extension": ".py",
   "mimetype": "text/x-python",
   "name": "python",
   "nbconvert_exporter": "python",
   "pygments_lexer": "ipython3",
   "version": "3.8.13"
  }
 },
 "nbformat": 4,
 "nbformat_minor": 5
}
